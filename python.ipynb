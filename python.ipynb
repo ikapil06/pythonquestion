{
 "cells": [
  {
   "cell_type": "markdown",
   "id": "8eac9c3e",
   "metadata": {},
   "source": [
    "Given an array of integers nums and an integer target, return indices of the two numbers such that they add up to target.\n",
    "\n",
    "You may assume that each input would have exactly one solution, and you may not use the same element twice.\n",
    "\n",
    "You can return the answer in any order.\n",
    "\n",
    " \n",
    "\n",
    "Example 1:\n",
    "\n",
    "Input: nums = [2,7,11,15], target = 9\n",
    "Output: [0,1]\n",
    "Explanation: Because nums[0] + nums[1] == 9, we return [0, 1].\n",
    "Example 2:\n",
    "\n",
    "Input: nums = [3,2,4], target = 6\n",
    "Output: [1,2]\n",
    "Example 3:\n",
    "\n",
    "Input: nums = [3,3], target = 6\n",
    "Output: [0,1]"
   ]
  },
  {
   "cell_type": "code",
   "execution_count": 5,
   "id": "9392e2e3",
   "metadata": {},
   "outputs": [
    {
     "name": "stdout",
     "output_type": "stream",
     "text": [
      "[[0, 1]]\n",
      "[[1, 2]]\n",
      "[]\n"
     ]
    }
   ],
   "source": [
    "import pandas as pd\n",
    "\n",
    "def twosum(nums, target):\n",
    "    df = pd.DataFrame({'nums': nums, 'index': range(len(nums))})\n",
    "    \n",
    "    # Cross join using how='cross' to get all combinations\n",
    "    merged = df.merge(df, how='cross', suffixes=('_1', '_2'))\n",
    "\n",
    "    # Filter: indices must be different, and nums must sum to target\n",
    "    result = merged[\n",
    "        (merged['index_1'] < merged['index_2']) &\n",
    "        (merged['nums_1'] + merged['nums_2'] == target)\n",
    "    ]\n",
    "\n",
    "    # Return as list of index pairs\n",
    "    return result[['index_1', 'index_2']].values.tolist()\n",
    "\n",
    "if __name__ == \"__main__\":\n",
    "    nums = [2, 7, 11, 15]\n",
    "    target = 9\n",
    "    print(twosum(nums, target))  # Output: [[0, 1]]\n",
    "    \n",
    "    nums = [3, 2, 4]\n",
    "    target = 6\n",
    "    print(twosum(nums, target))  # Output: [[1, 2]]\n",
    "    \n",
    "    nums = [3, 1,2,3,4.5]\n",
    "    target = 50\n",
    "    print(twosum(nums, target))  # Output: [[0, 1]]\n"
   ]
  },
  {
   "cell_type": "code",
   "execution_count": 7,
   "id": "c96541c5",
   "metadata": {},
   "outputs": [
    {
     "name": "stdout",
     "output_type": "stream",
     "text": [
      "\n",
      "Input numbers: [4.0, 847.0, 546.0, 1.0, 8.0, 879.0, 564.0, 1.0, 7.0, 879.0, 54.0, 4.0, 451.0, 21.0, 65.0, 3.0]\n",
      "Target sum: 68.0\n",
      "Index pairs that sum to target: [[14, 15]]\n"
     ]
    }
   ],
   "source": [
    "import pandas as pd\n",
    "\n",
    "def twosum(nums, target):\n",
    "    df = pd.DataFrame({'nums': nums, 'index': range(len(nums))})\n",
    "\n",
    "    # Cross join using how='cross' to get all combinations\n",
    "    merged = df.merge(df, how='cross', suffixes=('_1', '_2'))\n",
    "\n",
    "    # Filter: indices must be different, and nums must sum to target\n",
    "    result = merged[\n",
    "        (merged['index_1'] < merged['index_2']) &\n",
    "        (merged['nums_1'] + merged['nums_2'] == target)\n",
    "    ]\n",
    "\n",
    "    # Return as list of index pairs\n",
    "    return result[['index_1', 'index_2']].values.tolist()\n",
    "\n",
    "if __name__ == \"__main__\":\n",
    "    try:\n",
    "        nums_input = input(\"Enter numbers separated by commas: \")\n",
    "        nums = [float(x.strip()) for x in nums_input.split(\",\")]\n",
    "        target = float(input(\"Enter the target sum: \"))\n",
    "\n",
    "        result = twosum(nums, target)\n",
    "\n",
    "        print(f\"\\nInput numbers: {nums}\")\n",
    "        print(f\"Target sum: {target}\")\n",
    "\n",
    "        if result:\n",
    "            print(f\"Index pairs that sum to target: {result}\")\n",
    "        else:\n",
    "            print(\"Total sum cannot be done.\")\n",
    "\n",
    "    except ValueError:\n",
    "        print(\"Invalid input. Please enter numbers only.\")\n"
   ]
  },
  {
   "cell_type": "code",
   "execution_count": 14,
   "id": "bd0878a1",
   "metadata": {},
   "outputs": [
    {
     "name": "stdout",
     "output_type": "stream",
     "text": [
      "Enter the number of rows and columns (e.g., 3 4): \n",
      "Enter each row with 2 values, separated by spaces or commas (e.g., 1 2 3 or 1,2,3):\n",
      "\n",
      "✅ The matrix you entered is:\n",
      "[1, 2]\n",
      "[2, 3]\n",
      "\n",
      "🎯 Lucky numbers in the matrix are: [2]\n"
     ]
    }
   ],
   "source": [
    "import pandas as pd\n",
    "from typing import List\n",
    "\n",
    "class Solution:\n",
    "    def luckyNumbers(self, matrix: List[List[int]]) -> List[int]:\n",
    "        df = pd.DataFrame(matrix)\n",
    "        \n",
    "        row_mins = df.min(axis=1)\n",
    "        col_maxs = df.max(axis=0)\n",
    "\n",
    "        lucky_nums = []\n",
    "\n",
    "        for i in range(len(df)):\n",
    "            row_min_value = row_mins[i]\n",
    "            col_index_of_min = df.iloc[i].idxmin()\n",
    "            \n",
    "            if row_min_value == col_maxs[col_index_of_min]:\n",
    "                lucky_nums.append(int(row_min_value))  # Convert to regular Python int\n",
    "        \n",
    "        return lucky_nums\n",
    "\n",
    "\n",
    "def get_input_matrix():\n",
    "    # Combined input for rows and columns\n",
    "    print(\"Enter the number of rows and columns (e.g., 3 4): \")\n",
    "    rows, cols = map(int, input().replace(',', ' ').split())\n",
    "\n",
    "    matrix = []\n",
    "    print(f\"Enter each row with {cols} values, separated by spaces or commas (e.g., 1 2 3 or 1,2,3):\")\n",
    "\n",
    "    for i in range(rows):\n",
    "        while True:\n",
    "            row_input = input(f\"Row {i+1}: \").replace(',', ' ')\n",
    "            row = list(map(int, row_input.split()))\n",
    "            if len(row) == cols:\n",
    "                matrix.append(row)\n",
    "                break\n",
    "            else:\n",
    "                print(f\"❌ Row {i+1} must contain exactly {cols} numbers. Please re-enter the row.\")\n",
    "\n",
    "    return matrix\n",
    "\n",
    "\n",
    "if __name__ == \"__main__\":\n",
    "    matrix = get_input_matrix()\n",
    "\n",
    "    print(\"\\n✅ The matrix you entered is:\")\n",
    "    for row in matrix:\n",
    "        print(row)\n",
    "\n",
    "    sol = Solution()\n",
    "    lucky_numbers = sol.luckyNumbers(matrix)\n",
    "\n",
    "    print(\"\\n🎯 Lucky numbers in the matrix are:\", lucky_numbers)\n"
   ]
  },
  {
   "cell_type": "markdown",
   "id": "09e20075",
   "metadata": {},
   "source": [
    "Longest common prefix\n"
   ]
  },
  {
   "cell_type": "code",
   "execution_count": 1,
   "id": "a9c96c66",
   "metadata": {},
   "outputs": [
    {
     "name": "stdout",
     "output_type": "stream",
     "text": [
      "fl\n"
     ]
    }
   ],
   "source": [
    "def longestCommonPrefix(strs):\n",
    "    if not strs:\n",
    "        return \"\"\n",
    "    # Find the minimum length string in the list\n",
    "    min_str = min(strs, key=len)\n",
    "    for i in range(len(min_str)):\n",
    "        for s in strs:\n",
    "            if s[i] != min_str[i]:\n",
    "                return min_str[:i]\n",
    "    return min_str\n",
    "\n",
    "strinput = [\"flower\",\"flow\",\"flight\"]\n",
    "print(longestCommonPrefix(strinput))"
   ]
  },
  {
   "cell_type": "markdown",
   "id": "389179a6",
   "metadata": {},
   "source": [
    "valid parenthesis"
   ]
  },
  {
   "cell_type": "code",
   "execution_count": 4,
   "id": "0081962e",
   "metadata": {},
   "outputs": [
    {
     "name": "stdout",
     "output_type": "stream",
     "text": [
      "True\n",
      "False\n"
     ]
    }
   ],
   "source": [
    "def validparentheses(s):\n",
    "    stack = []\n",
    "    mapping = {\")\": \"(\", \"}\": \"{\", \"]\": \"[\"}\n",
    "    for char in s:\n",
    "        if char in mapping.values():\n",
    "            stack.append(char)\n",
    "        elif char in mapping.keys():\n",
    "            if not stack or stack.pop() != mapping[char]:\n",
    "                return False\n",
    "    return not stack\n",
    "\n",
    "s = \"{[]}\"\n",
    "print(validparentheses(s))\n",
    "\n",
    "k = \"([)]\"\n",
    "print(validparentheses(k))"
   ]
  },
  {
   "cell_type": "code",
   "execution_count": 5,
   "id": "dc409654",
   "metadata": {},
   "outputs": [
    {
     "name": "stdout",
     "output_type": "stream",
     "text": [
      "[1, 2, 3, 4, 5, 6]\n"
     ]
    }
   ],
   "source": [
    "def mergetwolist (l1,l2):\n",
    "    merged = []\n",
    "    i,j =0,0\n",
    "    while i < len(l1) and j < len(l2):\n",
    "        if l1[i] < l2[j]:\n",
    "            merged.append(l1[i])\n",
    "            i += 1\n",
    "        else:\n",
    "            merged.append(l2[j])\n",
    "            j += 1\n",
    "    # Append any remaining elements from either list\n",
    "    merged.extend(l1[i:])\n",
    "    merged.extend(l2[j:])\n",
    "    return merged\n",
    "\n",
    "l1 = [1,3,5]\n",
    "l2 = [2,4,6]\n",
    "print(mergetwolist(l1, l2))"
   ]
  },
  {
   "cell_type": "code",
   "execution_count": 9,
   "id": "632c33bd",
   "metadata": {},
   "outputs": [
    {
     "data": {
      "text/plain": [
       "[1, 0, 0, 0]"
      ]
     },
     "execution_count": 9,
     "metadata": {},
     "output_type": "execute_result"
    }
   ],
   "source": [
    "def plusone(digits):\n",
    "    # Start from the last digit and add one\n",
    "    for i in range(len(digits) - 1, -1, -1):\n",
    "        if digits[i] < 9:\n",
    "            digits[i] += 1\n",
    "            return digits\n",
    "        digits[i] = 0\n",
    "    # If all digits were 9, we need to add a new digit at the front\n",
    "    return [1] + digits\n",
    "\n",
    "digits = [9,9,9]\n",
    "plusone(digits)"
   ]
  },
  {
   "cell_type": "code",
   "execution_count": null,
   "id": "83a20c7e",
   "metadata": {},
   "outputs": [],
   "source": [
    "def plusone(digits):\n",
    "    # Start from the last digit and add one\n",
    "    for i in range(len(digits) - 1, -1, -1):\n",
    "        if digits[i] < 9:\n",
    "            digits[i] += 1\n",
    "            return digits\n",
    "        digits[i] = 0\n",
    "    # If all digits were 9, we need to add a new digit at the front\n",
    "    return [1] + digits\n"
   ]
  },
  {
   "cell_type": "code",
   "execution_count": 10,
   "id": "1bdb187c",
   "metadata": {},
   "outputs": [
    {
     "name": "stdout",
     "output_type": "stream",
     "text": [
      "[1, 2, 3, 1, 2, 3]\n"
     ]
    }
   ],
   "source": [
    "def concatenationarray(nums):\n",
    "    # Concatenate the array with itself\n",
    "    return nums + nums\n",
    "x = [1, 2, 3]\n",
    "print(concatenationarray(x))\n"
   ]
  },
  {
   "cell_type": "code",
   "execution_count": 12,
   "id": "e6b709d0",
   "metadata": {},
   "outputs": [
    {
     "name": "stdout",
     "output_type": "stream",
     "text": [
      "[[1, 2, 3], [1, 3, 2], [2, 1, 3], [2, 3, 1], [3, 1, 2], [3, 2, 1]]\n"
     ]
    }
   ],
   "source": [
    "def permutationarray(nums):\n",
    "    # Generate all permutations of the array\n",
    "    if not nums:\n",
    "        return [[]]\n",
    "    result = []\n",
    "    for i in range(len(nums)):\n",
    "        # Get the current number and the remaining numbers\n",
    "        current = nums[i]\n",
    "        remaining = nums[:i] + nums[i+1:]\n",
    "        # Generate all permutations of the remaining numbers\n",
    "        for p in permutationarray(remaining):\n",
    "            result.append([current] + p)\n",
    "    return result\n",
    "\n",
    "nums = [1, 2, 3]\n",
    "print(permutationarray(nums))"
   ]
  },
  {
   "cell_type": "code",
   "execution_count": 18,
   "id": "da90a667",
   "metadata": {},
   "outputs": [
    {
     "name": "stdout",
     "output_type": "stream",
     "text": [
      "2\n"
     ]
    }
   ],
   "source": [
    "class solution(object):\n",
    "    def findvalueafteroperation(self, digits):\n",
    "        # value = 0\n",
    "        # # Find the value after performing the plus one operation\n",
    "        # mapping = {\"--x\":-1,\"++x\":1,\"x++\":1,\"x--\":-1}\n",
    "        # for op in mapping:\n",
    "        #     if op in digits:\n",
    "        #         value += mapping[op]\n",
    "        # return value\n",
    "        x = 0\n",
    "        for op in s:\n",
    "            if op == \"++x\" or op == \"x++\":\n",
    "                x += 1\n",
    "            elif op == \"--x\" or op == \"x--\":\n",
    "                x -= 1\n",
    "        return x\n",
    "s = [\"x++\",\"x++\"]\n",
    "sol = solution()\n",
    "print(sol.findvalueafteroperation(s))"
   ]
  },
  {
   "cell_type": "code",
   "execution_count": 22,
   "id": "e12d0039",
   "metadata": {},
   "outputs": [
    {
     "data": {
      "text/plain": [
       "[2, 3, 5, 4, 1, 7]"
      ]
     },
     "execution_count": 22,
     "metadata": {},
     "output_type": "execute_result"
    }
   ],
   "source": [
    "def shuffle(nums, n):\n",
    "    # shuffled = []\n",
    "    # for i in range(n):\n",
    "    #     shuffled.append(nums[i])\n",
    "    #     shuffled.append(nums[i + n])\n",
    "    # return shuffled\n",
    "    shuffled = [0] * (2 * n)\n",
    "    for i in range(n):\n",
    "        shuffled[2 * i] = nums[i]\n",
    "        shuffled[2 * i + 1] = nums[i + n]\n",
    "    return shuffled\n",
    "\n",
    "shuffle([2,5,1,3,4,7], 3)"
   ]
  },
  {
   "cell_type": "code",
   "execution_count": 34,
   "id": "9258b450",
   "metadata": {},
   "outputs": [
    {
     "name": "stdout",
     "output_type": "stream",
     "text": [
      "index: 0, string: hello, 'r' not found in string at index 0\n",
      "index: 1, string: world, Found 'r' in string at index 1\n",
      "index: 2, string: leetcode, 'r' not found in string at index 2\n"
     ]
    },
    {
     "data": {
      "text/plain": [
       "[1]"
      ]
     },
     "execution_count": 34,
     "metadata": {},
     "output_type": "execute_result"
    }
   ],
   "source": [
    "class Solution:\n",
    "    def findwordcontaining(self, s, word):\n",
    "        indices = []\n",
    "        for i, string in enumerate(s):\n",
    "            print(f\"index: {i}, string: {string}\", end=\", \")\n",
    "            if word in string:\n",
    "                print(f\"Found '{word}' in string at index {i}\")\n",
    "                indices.append(i)\n",
    "            else:\n",
    "                print(f\"'{word}' not found in string at index {i}\")\n",
    "        return indices\n",
    "\n",
    "s = [\"hello\",\"world\",\"leetcode\"]\n",
    "word = \"r\"\n",
    "Solution().findwordcontaining(s, word)"
   ]
  },
  {
   "cell_type": "code",
   "execution_count": 1,
   "id": "fe12c4ab",
   "metadata": {},
   "outputs": [
    {
     "name": "stdout",
     "output_type": "stream",
     "text": [
      "3\n"
     ]
    }
   ],
   "source": [
    "def numberOfEmployeesWhoMetTarget( hours, target):\n",
    "    count = 0\n",
    "    for h in hours:\n",
    "        if h >= target:\n",
    "            count += 1\n",
    "    return count\n",
    "\n",
    "hours = [0,1,2,3,4]\n",
    "target = 2\n",
    "print(numberOfEmployeesWhoMetTarget(hours, target))"
   ]
  },
  {
   "cell_type": "code",
   "execution_count": 2,
   "id": "4a30d2ad",
   "metadata": {},
   "outputs": [
    {
     "name": "stdout",
     "output_type": "stream",
     "text": [
      "[False, True, True, False, True]\n"
     ]
    }
   ],
   "source": [
    "def kidswithmaxcandies(candies,extracandies):\n",
    "    max_candies = max(candies)\n",
    "    result = []\n",
    "    for candy in candies:\n",
    "        if candy + extracandies >= max_candies:\n",
    "            result.append(True)\n",
    "        else:\n",
    "            result.append(False)\n",
    "    return result\n",
    "\n",
    "candies = [2,3,5,1,3]\n",
    "extracandies = 2\n",
    "print(kidswithmaxcandies(candies, extracandies))"
   ]
  },
  {
   "cell_type": "code",
   "execution_count": 4,
   "id": "27c39c49",
   "metadata": {},
   "outputs": [
    {
     "name": "stdout",
     "output_type": "stream",
     "text": [
      "1\n"
     ]
    }
   ],
   "source": [
    "def countpairs(nums,target):\n",
    "    count = 0\n",
    "    n = len(nums)\n",
    "    for i in range(n):\n",
    "        for j in range(i + 1, n):\n",
    "            if nums[i] + nums[j] < target:\n",
    "                count += 1\n",
    "    return count\n",
    "\n",
    "nums = [4,1,1]\n",
    "target = 3\n",
    "print(countpairs(nums, target))"
   ]
  },
  {
   "cell_type": "code",
   "execution_count": 5,
   "id": "394eeada",
   "metadata": {},
   "outputs": [
    {
     "name": "stdout",
     "output_type": "stream",
     "text": [
      "[4, 0, 1, 1, 3]\n"
     ]
    }
   ],
   "source": [
    "def smaller(num):\n",
    "    result = []\n",
    "    for i in num:\n",
    "        count = 0\n",
    "        for j in num:\n",
    "            if j < i:\n",
    "                count += 1\n",
    "        result.append(count)\n",
    "    return result\n",
    "\n",
    "num = [8,1,2,2,3]\n",
    "print(smaller(num))"
   ]
  },
  {
   "cell_type": "code",
   "execution_count": 6,
   "id": "d2e70b8a",
   "metadata": {},
   "outputs": [
    {
     "name": "stdout",
     "output_type": "stream",
     "text": [
      "[1, 3, 6, 10]\n"
     ]
    }
   ],
   "source": [
    "def runningSum(nums):\n",
    "    running_sum = []\n",
    "    current_sum = 0\n",
    "    for num in nums:\n",
    "        current_sum += num\n",
    "        running_sum.append(current_sum)\n",
    "    return running_sum\n",
    "\n",
    "nums = [1,2,3,4]\n",
    "print(runningSum(nums))"
   ]
  },
  {
   "cell_type": "code",
   "execution_count": 7,
   "id": "03f7e6d2",
   "metadata": {},
   "outputs": [
    {
     "name": "stdout",
     "output_type": "stream",
     "text": [
      "6\n"
     ]
    }
   ],
   "source": [
    "def mostwordsfound(sentences):\n",
    "    max_words = 0\n",
    "    for sentence in sentences:\n",
    "        word_count = len(sentence.split())\n",
    "        if word_count > max_words:\n",
    "            max_words = word_count\n",
    "    return max_words\n",
    "\n",
    "sentences = [\"alice and bob love leetcode\", \"i think so too\", \"this is great thanks very much\"]\n",
    "print(mostwordsfound(sentences))"
   ]
  },
  {
   "cell_type": "code",
   "execution_count": null,
   "id": "8d49ed63",
   "metadata": {},
   "outputs": [],
   "source": []
  },
  {
   "cell_type": "code",
   "execution_count": 8,
   "id": "fda47d80",
   "metadata": {},
   "outputs": [
    {
     "name": "stdout",
     "output_type": "stream",
     "text": [
      "[4, 6, 0, 7]\n"
     ]
    }
   ],
   "source": [
    "def decode(encoded, first):\n",
    "    arr = [first]\n",
    "    for num in encoded:\n",
    "        arr.append(arr[-1] ^ num)\n",
    "    return arr\n",
    "\n",
    "# Example usage:\n",
    "encoded = [2, 6, 7]\n",
    "first = 4\n",
    "print(decode(encoded, first))  # Output: [4, 6, 0, 7]"
   ]
  },
  {
   "cell_type": "code",
   "execution_count": null,
   "id": "ec0292f6",
   "metadata": {},
   "outputs": [],
   "source": [
    "def left_right_difference(nums):\n",
    "    n = len(nums)\n",
    "    leftSum = [0] * n\n",
    "    rightSum = [0] * n\n",
    "    \n",
    "    # Calculate leftSum\n",
    "    for i in range(1, n):\n",
    "        leftSum[i] = leftSum[i-1] + nums[i-1]\n",
    "    \n",
    "    # Calculate rightSum\n",
    "    for i in range(n-2, -1, -1):\n",
    "        rightSum[i] = rightSum[i+1] + nums[i+1]\n",
    "    \n",
    "    # Calculate answer\n",
    "    answer = [abs(leftSum[i] - rightSum[i]) for i in range(n)]\n",
    "    return answer\n"
   ]
  },
  {
   "cell_type": "code",
   "execution_count": null,
   "id": "3918c9a5",
   "metadata": {},
   "outputs": [],
   "source": [
    "def left_right_difference_combined(nums):\n",
    "    n = len(nums)\n",
    "    leftSum = [0] * n\n",
    "    rightSum = [0] * n\n",
    "    \n",
    "    # Calculate leftSum in one pass\n",
    "    total = 0\n",
    "    for i in range(n):\n",
    "        leftSum[i] = total\n",
    "        total += nums[i]\n",
    "    \n",
    "    # Calculate rightSum in one pass\n",
    "    total = 0\n",
    "    for i in range(n-1, -1, -1):\n",
    "        rightSum[i] = total\n",
    "        total += nums[i]\n",
    "    \n",
    "    # Calculate answer\n",
    "    answer = [abs(leftSum[i] - rightSum[i]) for i in range(n)]\n",
    "    return answer\n",
    "\n",
    "# Example usage:\n",
    "nums = [10, 4, 8, 3]\n",
    "print(left_right_difference_combined(nums))  # Output: [15, 1, 11, 22]"
   ]
  },
  {
   "cell_type": "code",
   "execution_count": 10,
   "id": "a002a2b7",
   "metadata": {},
   "outputs": [
    {
     "name": "stdout",
     "output_type": "stream",
     "text": [
      "[0, 4, 1, 3, 2]\n"
     ]
    }
   ],
   "source": [
    "def createTargetArray(nums, index):\n",
    "    target = []\n",
    "    for i in range(len(nums)):\n",
    "        target.insert(index[i], nums[i])\n",
    "    return target\n",
    "nums = [0,1,2,3,4]\n",
    "index = [0,1,2,2,1]\n",
    "print(createTargetArray(nums, index))"
   ]
  },
  {
   "cell_type": "code",
   "execution_count": 12,
   "id": "f804612f",
   "metadata": {},
   "outputs": [
    {
     "name": "stdout",
     "output_type": "stream",
     "text": [
      "[2, 4, 4, 4]\n"
     ]
    }
   ],
   "source": [
    "def decompressRLElist(nums):\n",
    "    decomp = []\n",
    "    n = len(nums)\n",
    "    for i in range(0, n, 2):\n",
    "        freq = nums[i]\n",
    "        val = nums[i + 1]\n",
    "        decomp.extend([val] * freq)\n",
    "    return decomp\n",
    "nums = [1,2,3,4]\n",
    "print(decompressRLElist(nums))"
   ]
  },
  {
   "cell_type": "code",
   "execution_count": 1,
   "id": "9ed86871",
   "metadata": {},
   "outputs": [
    {
     "name": "stdout",
     "output_type": "stream",
     "text": [
      "2\n"
     ]
    }
   ],
   "source": [
    "def arithematictriplet(arr, num):\n",
    "    count = 0\n",
    "    n = len(arr)\n",
    "    for i in range(n):\n",
    "        for j in range(i + 1, n):\n",
    "            for k in range(j + 1, n):\n",
    "                if arr[j] - arr[i] == num and arr[k] - arr[j] == num:\n",
    "                    count += 1\n",
    "    return count\n",
    "arr = [0,1,4,6,7,10]\n",
    "num = 3\n",
    "print(arithematictriplet(arr, num))"
   ]
  },
  {
   "cell_type": "markdown",
   "id": "3cf39363",
   "metadata": {},
   "source": [
    "### Step-by-step Explanation: Counting Arithmetic Triplets\n",
    " \n",
    "Suppose you have:\n",
    "```python\n",
    "arr = [0, 1, 4, 6, 7, 10]\n",
    "num = 3\n",
    "```\n",
    "The function checks for triplets (i, j, k) such that:\n",
    "- i < j < k\n",
    "- arr[j] - arr[i] == num\n",
    "- arr[k] - arr[j] == num\n",
    " \n",
    "#### How the code works:\n",
    "| i | j | k | arr[i] | arr[j] | arr[k] | arr[j]-arr[i] | arr[k]-arr[j] | Is Triplet? |\n",
    "|---|---|---|--------|--------|--------|---------------|---------------|:----------:|\n",
    "| 0 | 1 | 2 |   0    |   1    |   4    |      1        |      3        |    No      |\n",
    "| 0 | 2 | 3 |   0    |   4    |   6    |      4        |      2        |    No      |\n",
    "| 0 | 2 | 4 |   0    |   4    |   7    |      4        |      3        |    No      |\n",
    "| 0 | 2 | 5 |   0    |   4    |  10    |      4        |      6        |    No      |\n",
    "| 0 | 3 | 4 |   0    |   6    |   7    |      6        |      1        |    No      |\n",
    "| 0 | 3 | 5 |   0    |   6    |  10    |      6        |      4        |    No      |\n",
    "| 0 | 4 | 5 |   0    |   7    |  10    |      7        |      3        |    No      |\n",
    "| 1 | 2 | 3 |   1    |   4    |   6    |      3        |      2        |    No      |\n",
    "| 1 | 2 | 4 |   1    |   4    |   7    |      3        |      3        |   **Yes**  |\n",
    "| 1 | 2 | 5 |   1    |   4    |  10    |      3        |      6        |    No      |\n",
    "| 1 | 3 | 4 |   1    |   6    |   7    |      5        |      1        |    No      |\n",
    "| 1 | 3 | 5 |   1    |   6    |  10    |      5        |      4        |    No      |\n",
    "| 1 | 4 | 5 |   1    |   7    |  10    |      6        |      3        |    No      |\n",
    "| 2 | 3 | 4 |   4    |   6    |   7    |      2        |      1        |    No      |\n",
    "| 2 | 3 | 5 |   4    |   6    |  10    |      2        |      4        |    No      |\n",
    "| 2 | 4 | 5 |   4    |   7    |  10    |      3        |      3        |   **Yes**  |\n",
    "| 3 | 4 | 5 |   6    |   7    |  10    |      1        |      3        |    No      |\n",
    " \n",
    "- The function loops through all possible i, j, k (i < j < k)\n",
    "- For each, it checks if the differences match `num`\n",
    "- If both conditions are true, it counts that triplet\n",
    "- In this example, there are 2 valid triplets: (1,2,4) and (2,4,5)"
   ]
  },
  {
   "cell_type": "code",
   "execution_count": 2,
   "id": "89340e1c",
   "metadata": {},
   "outputs": [
    {
     "name": "stdout",
     "output_type": "stream",
     "text": [
      "2\n"
     ]
    }
   ],
   "source": [
    "def triplet(arr, diff):\n",
    "    count = 0\n",
    "    a = set(arr)\n",
    "    for x in arr:\n",
    "        if x + diff in a and x + 2 * diff in a:\n",
    "            count += 1\n",
    "    return count\n",
    "\n",
    "arr = [0,1,4,6,7,10]\n",
    "num = 3\n",
    "print(triplet(arr, num))\n"
   ]
  },
  {
   "cell_type": "code",
   "execution_count": 6,
   "id": "3246c9e2",
   "metadata": {},
   "outputs": [
    {
     "name": "stdout",
     "output_type": "stream",
     "text": [
      "2\n"
     ]
    }
   ],
   "source": [
    "def minop(nums, k):\n",
    "    n = len(nums)\n",
    "    nums.sort()\n",
    "    for i in range(n):\n",
    "        if nums[i] >= k:\n",
    "            return i\n",
    "    return n\n",
    "\n",
    "nums = [2,3,5,1,3]\n",
    "k = 3\n",
    "print(minop(nums, k))"
   ]
  },
  {
   "cell_type": "code",
   "execution_count": 10,
   "id": "101eabb2",
   "metadata": {},
   "outputs": [
    {
     "name": "stdout",
     "output_type": "stream",
     "text": [
      "3\n"
     ]
    }
   ],
   "source": [
    "def minop(nums, k):\n",
    "    n = len(nums)\n",
    "    nums.sort(reverse=True)\n",
    "    for i in range(n - 1, -1, -1):\n",
    "        if nums[i] >= k:\n",
    "            return n - 1 - i\n",
    "\n",
    "    return n\n",
    "\n",
    "nums = [2, 11,10,1,3]\n",
    "k = 10\n",
    "print(minop(nums, k))"
   ]
  },
  {
   "cell_type": "code",
   "execution_count": null,
   "id": "28333dd5",
   "metadata": {},
   "outputs": [],
   "source": []
  },
  {
   "cell_type": "code",
   "execution_count": 11,
   "id": "128ca08a",
   "metadata": {},
   "outputs": [
    {
     "name": "stdout",
     "output_type": "stream",
     "text": [
      "Original list: [2, 11, 10, 1, 3]\n",
      "Value of k: 10\n",
      "Number of elements >= 10: 0\n",
      "--------------------\n"
     ]
    }
   ],
   "source": [
    "def count_elements_descending(nums, k):\n",
    " \n",
    "    nums.sort(reverse=True)\n",
    "    n = len(nums)\n",
    "    \n",
    "    # Iterate through the sorted list from the beginning\n",
    "    for i in range(n):\n",
    "        # If we find a number that is less than k...\n",
    "        if nums[i] > k:\n",
    "            # ...it means all subsequent numbers are also less than k.\n",
    "            # The elements from index 0 to i-1 are the ones >= k.\n",
    "            # The count of these elements is exactly i.\n",
    "            return i\n",
    "            \n",
    "    # If the loop completes, it means all numbers in the list are >= k.\n",
    "    # In this case, all 'n' elements meet the condition.\n",
    "    return n\n",
    "\n",
    "# --- Example Usage ---\n",
    "nums_list = [2, 11,10,1,3]\n",
    "k_value = 10\n",
    "\n",
    "print(f\"Original list: {nums_list}\")\n",
    "print(f\"Value of k: {k_value}\")\n",
    "\n",
    "result = count_elements_descending(nums_list, k_value)\n",
    "print(f\"Number of elements >= {k_value}: {result}\")\n",
    "\n",
    "print(\"-\" * 20)\n",
    "\n",
    "# nums_list_2 = [1, 1, 2, 4, 9]\n",
    "# k_value_2 = 6\n",
    "# print(f\"Original list: {nums_list_2}\")\n",
    "# print(f\"Value of k: {k_value_2}\")\n",
    "\n",
    "# result_2 = count_elements_descending(nums_list_2, k_value_2)\n",
    "# print(f\"Number of elements >= {k_value_2}: {result_2}\")"
   ]
  },
  {
   "cell_type": "code",
   "execution_count": 12,
   "id": "8dff7a40",
   "metadata": {},
   "outputs": [
    {
     "name": "stdout",
     "output_type": "stream",
     "text": [
      "True\n"
     ]
    }
   ],
   "source": [
    "def arraystingcheck(word1,word2):\n",
    "    return ''.join(word1) == ''.join(word2)\n",
    "\n",
    "d = [\"ab\", \"c\"]\n",
    "print(arraystingcheck(d, [\"a\", \"bc\"]))"
   ]
  },
  {
   "cell_type": "code",
   "execution_count": null,
   "id": "17a385a8",
   "metadata": {},
   "outputs": [],
   "source": []
  },
  {
   "cell_type": "code",
   "execution_count": 13,
   "id": "b5cdada7",
   "metadata": {},
   "outputs": [
    {
     "name": "stdout",
     "output_type": "stream",
     "text": [
      "word1 represents: 'abc'\n",
      "word2 represents: 'abc'\n",
      "Are they the same? True\n",
      "--------------------\n",
      "word3 represents: 'acb'\n",
      "word4 represents: 'abc'\n",
      "Are they the same? False\n"
     ]
    }
   ],
   "source": [
    "def arraystringcheck_manual_concat(word1, word2):\n",
    "    \"\"\"\n",
    "    Checks if two string arrays represent the same string by manually\n",
    "    concatenating them using loops.\n",
    "    \"\"\"\n",
    "    # Manually concatenate the first list of strings\n",
    "    str1 = \"\"\n",
    "    for s in word1:\n",
    "        str1 += s\n",
    "\n",
    "    # Manually concatenate the second list of strings\n",
    "    str2 = \"\"\n",
    "    for s in word2:\n",
    "        str2 += s\n",
    "\n",
    "    # Compare the two resulting strings\n",
    "    return str1 == str2\n",
    "\n",
    "# --- Example Usage ---\n",
    "word1_list = [\"ab\", \"c\"]\n",
    "word2_list = [\"a\", \"bc\"]\n",
    "\n",
    "print(f\"word1 represents: '{''.join(word1_list)}'\")\n",
    "print(f\"word2 represents: '{''.join(word2_list)}'\")\n",
    "print(f\"Are they the same? {arraystringcheck_manual_concat(word1_list, word2_list)}\")\n",
    "\n",
    "print(\"-\" * 20)\n",
    "\n",
    "word3_list = [\"a\", \"cb\"]\n",
    "word4_list = [\"ab\", \"c\"]\n",
    "print(f\"word3 represents: '{''.join(word3_list)}'\")\n",
    "print(f\"word4 represents: '{''.join(word4_list)}'\")\n",
    "print(f\"Are they the same? {arraystringcheck_manual_concat(word3_list, word4_list)}\")"
   ]
  },
  {
   "cell_type": "code",
   "execution_count": 15,
   "id": "b26e460a",
   "metadata": {},
   "outputs": [
    {
     "name": "stdout",
     "output_type": "stream",
     "text": [
      "word1 represents: 'abc'\n",
      "word2 represents: 'abc'\n",
      "Are they the same? True\n",
      "--------------------\n",
      "word3 represents: 'acb'\n",
      "word4 represents: 'abc'\n",
      "Are they the same? False\n"
     ]
    }
   ],
   "source": [
    "import functools\n",
    "import operator\n",
    "\n",
    "def arraystringcheck_reduce(word1, word2):\n",
    "    \"\"\"\n",
    "    Checks if two string arrays are equivalent by using functools.reduce\n",
    "    to concatenate the strings in each list.\n",
    "    \"\"\"\n",
    "    # Use reduce to apply the add operator sequentially to all items in word1\n",
    "    # This is equivalent to \"a\" + \"b\" + \"c\" ...\n",
    "    str1 = functools.reduce(operator.add, word1)\n",
    "\n",
    "    # Do the same for the second list\n",
    "    str2 = functools.reduce(operator.add, word2)\n",
    "\n",
    "    # Compare the final concatenated strings\n",
    "    return str1 == str2\n",
    "\n",
    "# --- Example Usage ---\n",
    "word1_list = [\"ab\", \"c\"]\n",
    "word2_list = [\"a\", \"bc\"]\n",
    "\n",
    "print(f\"word1 represents: '{functools.reduce(operator.add, word1_list)}'\")\n",
    "print(f\"word2 represents: '{functools.reduce(operator.add, word2_list)}'\")\n",
    "print(f\"Are they the same? {arraystringcheck_reduce(word1_list, word2_list)}\")\n",
    "\n",
    "print(\"-\" * 20)\n",
    "\n",
    "word3_list = [\"a\", \"cb\"]\n",
    "word4_list = [\"ab\", \"c\"]\n",
    "print(f\"word3 represents: '{functools.reduce(operator.add, word3_list)}'\")\n",
    "print(f\"word4 represents: '{functools.reduce(operator.add, word4_list)}'\")\n",
    "print(f\"Are they the same? {arraystringcheck_reduce(word3_list, word4_list)}\")"
   ]
  },
  {
   "cell_type": "code",
   "execution_count": null,
   "id": "367fe7b6",
   "metadata": {},
   "outputs": [],
   "source": []
  },
  {
   "cell_type": "markdown",
   "id": "ccbd78bc",
   "metadata": {},
   "source": [
    "## Understanding the `functools` Module\n",
    "\n",
    "The `functools` module provides tools for **higher-order functions**, which are functions that operate on or return other functions. It's a powerful part of Python's standard library for creating flexible and reusable code.\n",
    "\n",
    "Here are some of its most important functions:\n",
    "\n",
    "### 1. `functools.reduce()`\n",
    "- **Purpose**: To \"reduce\" a sequence (like a list) to a single cumulative value by applying a function repeatedly.\n",
    "- **How it works**: It takes a function and a sequence. It applies the function to the first two items, then applies it to the result and the third item, and so on.\n",
    "- **Example**: Summing a list `[1, 2, 3, 4]` is done by computing `(((1+2)+3)+4)`.\n",
    "\n",
    "### 2. `functools.partial()`\n",
    "- **Purpose**: To \"freeze\" some of a function's arguments, creating a new, simpler function with a specific purpose.\n",
    "- **How it works**: You give it a function and some default arguments. It returns a new function that will always be called with those default arguments.\n",
    "- **Example**: If you have a function `multiply(x, y)`, you can create a new `double` function by \"freezing\" the `y` argument to `2`.\n",
    "\n",
    "### 3. `functools.wraps()` (for Decorators)\n",
    "- **Purpose**: A helper function used when creating your own decorators. It ensures that the metadata (like the name and docstring) of the original function is preserved in the decorated function.\n",
    "- **Decorators**: A decorator is a special function that takes another function and extends its behavior without explicitly modifying it. For example, you could write a decorator to time how long a function takes to run. `wraps` makes these decorators clean and professional."
   ]
  },
  {
   "cell_type": "code",
   "execution_count": 18,
   "id": "c6a493c7",
   "metadata": {},
   "outputs": [
    {
     "name": "stdout",
     "output_type": "stream",
     "text": [
      "1\n"
     ]
    }
   ],
   "source": [
    "def countmatch(item,rulekey,rulevalue):\n",
    "    count = 0\n",
    "    for i in item:\n",
    "        if rulekey == \"type\" and i[0] == rulevalue:\n",
    "            count += 1\n",
    "        elif rulekey == \"color\" and i[1] == rulevalue:\n",
    "            count += 1\n",
    "        elif rulekey == \"name\" and i[2] == rulevalue:\n",
    "            count += 1\n",
    "    return count\n",
    "\n",
    "valuep = [[\"phone\",\"blue\",\"pixel\"],[\"computer\",\"silver\",\"lenovo\"],[\"phone\",\"gold\",\"iphone\"]]\n",
    "rulekey = \"color\"\n",
    "rulevalue = \"blue\" \n",
    "print(countmatch(valuep,rulekey,rulevalue))"
   ]
  },
  {
   "cell_type": "code",
   "execution_count": 19,
   "id": "6c5b1fb0",
   "metadata": {},
   "outputs": [
    {
     "name": "stdout",
     "output_type": "stream",
     "text": [
      "Hello how are you\n"
     ]
    }
   ],
   "source": [
    "def truncatesentence(s,k):\n",
    "    words = s.split()\n",
    "    return ' '.join(words[:k])\n",
    "\n",
    "s = \"Hello how are you Contestant\"\n",
    "k = 4\n",
    "print(truncatesentence(s,k))"
   ]
  },
  {
   "cell_type": "code",
   "execution_count": null,
   "id": "54802132",
   "metadata": {},
   "outputs": [],
   "source": []
  },
  {
   "cell_type": "code",
   "execution_count": 20,
   "id": "b9178e83",
   "metadata": {},
   "outputs": [
    {
     "name": "stdout",
     "output_type": "stream",
     "text": [
      "oced\n"
     ]
    }
   ],
   "source": [
    "\n",
    "def shufflestring(s,indices):\n",
    "    result = [''] * len(s)\n",
    "    for i in range(len(s)):\n",
    "        result[indices[i]] = s[i]\n",
    "    return ''.join(result)\n",
    "\n",
    "s = \"code\"\n",
    "indices = [1,0,3,2]\n",
    "print(shufflestring(s,indices))\n"
   ]
  },
  {
   "cell_type": "markdown",
   "id": "cc3c54f8",
   "metadata": {},
   "source": [
    "\n",
    "Shuffle String\n"
   ]
  },
  {
   "cell_type": "code",
   "execution_count": 36,
   "id": "1986d894",
   "metadata": {},
   "outputs": [
    {
     "name": "stdout",
     "output_type": "stream",
     "text": [
      "cab\n"
     ]
    }
   ],
   "source": [
    "# def stringnum(s,k):\n",
    "#     result = [0] * len(s)\n",
    "#     for i in range(len(s)):\n",
    "#         result[k[i]] = s[i]\n",
    "#     return result\n",
    "\n",
    "# a = \"abc\"       \n",
    "# k = [2,3,1]\n",
    "# print(stringnum(a,k))\n",
    "\n",
    "\n",
    "def stringnum(s, k):\n",
    "    result = [''] * (max(k) + 1)  \n",
    "    for i in range(len(s)):\n",
    "        result[k[i]] = s[i]\n",
    "    result = ''.join(result)\n",
    "    return result\n",
    "\n",
    "a = \"abc\"\n",
    "k = [2, 3, 1]\n",
    "print(stringnum(a, k))\n"
   ]
  },
  {
   "cell_type": "code",
   "execution_count": 7,
   "id": "331f9df8",
   "metadata": {},
   "outputs": [
    {
     "name": "stdout",
     "output_type": "stream",
     "text": [
      "9\n"
     ]
    }
   ],
   "source": [
    "class Solution:\n",
    "    def differenceofelementandsigitsum(self, nums):\n",
    "        total_sum = sum(nums)\n",
    "        digit_sum = 0\n",
    "        for num in nums:\n",
    "            while num > 0:\n",
    "                digit_sum += num % 10\n",
    "                num //= 10\n",
    "        return abs(total_sum - digit_sum)\n",
    "\n",
    "x = eval(input(\"Enter the list of numbers (e.g., [12, 34, 5]): \"))\n",
    "sol = Solution()\n",
    "print(sol.differenceofelementandsigitsum(x))"
   ]
  },
  {
   "cell_type": "code",
   "execution_count": 2,
   "id": "be0b2a7e",
   "metadata": {},
   "outputs": [
    {
     "data": {
      "text/plain": [
       "25"
      ]
     },
     "execution_count": 2,
     "metadata": {},
     "output_type": "execute_result"
    }
   ],
   "source": [
    "def differenceofelementandsigitsum(nums):\n",
    "    total_sum = sum(nums)\n",
    "    return total_sum\n",
    "x = [1,15,6,3]\n",
    "differenceofelementandsigitsum(x)"
   ]
  },
  {
   "cell_type": "code",
   "execution_count": 8,
   "id": "882a635c",
   "metadata": {},
   "outputs": [
    {
     "name": "stdout",
     "output_type": "stream",
     "text": [
      "True\n",
      "True\n",
      "False\n"
     ]
    }
   ],
   "source": [
    "def palindrome(words):\n",
    "    if isinstance(words, list):\n",
    "        s = ''.join(words)\n",
    "    else:\n",
    "        s = str(words)\n",
    "    return s == s[::-1]\n",
    "\n",
    "# Example usage:\n",
    "print(palindrome(\"racecar\"))        # True\n",
    "print(palindrome([\"ra\", \"cec\", \"ar\"]))  # True\n",
    "print(palindrome(\"hello\"))          # False\n"
   ]
  },
  {
   "cell_type": "code",
   "execution_count": 9,
   "id": "5bf443c4",
   "metadata": {},
   "outputs": [
    {
     "data": {
      "text/plain": [
       "'ada'"
      ]
     },
     "execution_count": 9,
     "metadata": {},
     "output_type": "execute_result"
    }
   ],
   "source": [
    "def firstpalindrome(words):\n",
    "    for word in words:\n",
    "        s = str(word)\n",
    "        if s == s[::-1]:\n",
    "            return s\n",
    "    return None\n",
    "\n",
    "words = [\"abc\",\"car\",\"ada\",\"racecar\",\"cool\"]\n",
    "firstpalindrome(words)"
   ]
  },
  {
   "cell_type": "code",
   "execution_count": 10,
   "id": "7be74ddc",
   "metadata": {},
   "outputs": [
    {
     "data": {
      "text/plain": [
       "2"
      ]
     },
     "execution_count": 10,
     "metadata": {},
     "output_type": "execute_result"
    }
   ],
   "source": [
    "def countKdifferences(nums, k):\n",
    "    count = 0\n",
    "    num_set = set(nums)\n",
    "    for num in num_set:\n",
    "        if num + k in num_set:\n",
    "            count += 1\n",
    "    return count\n",
    "\n",
    "nums = [3,1,4,1,5]\n",
    "k = 2\n",
    "countKdifferences(nums, k)"
   ]
  },
  {
   "cell_type": "code",
   "execution_count": 12,
   "id": "c741755f",
   "metadata": {},
   "outputs": [
    {
     "name": "stdout",
     "output_type": "stream",
     "text": [
      "4\n"
     ]
    }
   ],
   "source": [
    "def countKDifferencePairs(nums, k):\n",
    "    count = 0\n",
    "    n = len(nums)\n",
    "    for i in range(n):\n",
    "        for j in range(i + 1, n):\n",
    "            if abs(nums[i] - nums[j]) == k:\n",
    "                count += 1\n",
    "    return count\n",
    "\n",
    "nums = [1,2,2,1]\n",
    "k = 1\n",
    "print(countKDifferencePairs(nums, k))  \n"
   ]
  },
  {
   "cell_type": "code",
   "execution_count": 1,
   "id": "2680ffdb",
   "metadata": {},
   "outputs": [
    {
     "data": {
      "text/plain": [
       "58"
      ]
     },
     "execution_count": 1,
     "metadata": {},
     "output_type": "execute_result"
    }
   ],
   "source": [
    "def sumoddlengthsubarrays(arr):\n",
    "    total_sum = 0\n",
    "    n = len(arr)\n",
    "    for i in range(n):\n",
    "        for j in range(i, n):\n",
    "            if (j - i + 1) % 2 == 1:  # Check if the length of the subarray is odd\n",
    "                total_sum += sum(arr[i:j+1])\n",
    "    return total_sum\n",
    "\n",
    "sumoddlengthsubarrays([1,4,2,5,3])\n"
   ]
  },
  {
   "cell_type": "code",
   "execution_count": 7,
   "id": "2e6cbb9d",
   "metadata": {},
   "outputs": [
    {
     "name": "stdout",
     "output_type": "stream",
     "text": [
      "7\n"
     ]
    }
   ],
   "source": [
    "def countconsiststrings(allowed, words):\n",
    "    allowed_set = set(allowed)\n",
    "    count = 0\n",
    "    for word in words:\n",
    "        if all(char in allowed_set for char in word):\n",
    "            count += 1\n",
    "    return count\n",
    "\n",
    "allowed = \"abc\"\n",
    "words = [\"a\",\"b\",\"c\",\"ab\",\"ac\",\"bc\",\"abc\"]\n",
    "print(countconsiststrings(allowed, words))"
   ]
  },
  {
   "cell_type": "code",
   "execution_count": 12,
   "id": "c2e400c8",
   "metadata": {},
   "outputs": [
    {
     "name": "stdout",
     "output_type": "stream",
     "text": [
      "2\n"
     ]
    }
   ],
   "source": [
    "def minlengthafterremoveal(nums):\n",
    "    # Remove nums[i] and nums[-1] (last element) if nums[i] < nums[-1]\n",
    "    for i in range(len(nums)):\n",
    "        if nums[i] < nums[-1]:\n",
    "            # Remove by index, not by value (to avoid removing duplicates)\n",
    "            nums.pop(-1)  # Remove last element\n",
    "            nums.pop(i)   # Remove i-th element\n",
    "            break\n",
    "    return len(nums)\n",
    "\n",
    "# Example usage:\n",
    "nums = [1, 2, 3, 4]\n",
    "print(minlengthafterremoveal(nums))"
   ]
  },
  {
   "cell_type": "code",
   "execution_count": 14,
   "id": "2018bae9",
   "metadata": {},
   "outputs": [
    {
     "name": "stdout",
     "output_type": "stream",
     "text": [
      "1\n"
     ]
    }
   ],
   "source": [
    "def min_length_after_removals(nums):\n",
    "    left = 0\n",
    "    right = len(nums) - 1\n",
    "    removed = 0\n",
    "    while left < right:\n",
    "        if nums[left] < nums[right]:\n",
    "            removed += 2\n",
    "            left += 1\n",
    "            right -= 1\n",
    "        else:\n",
    "            right -= 1\n",
    "    return len(nums) - removed\n",
    "\n",
    "nums = [1, 2,2,3, 3]\n",
    "print(min_length_after_removals(nums))  "
   ]
  },
  {
   "cell_type": "markdown",
   "id": "3ef733b6",
   "metadata": {},
   "source": [
    "### Step-by-step Table: Minimum Array Length After Pair Removals\n",
    "\n",
    "Suppose `nums = [1, 2, 2, 3, 4]` (sorted).\n",
    "\n",
    "\n",
    "| Step | Array State         | Pair Removed | Remaining Array | Removed Count |\n",
    "|------|---------------------|--------------|-----------------|---------------|\n",
    "| 1    | [1, 2, 2, 3, 4]     | (1, 4)       | [2, 2, 3]       | 2             |\n",
    "| 2    | [2, 2, 3]           | (2, 3)       | [2]             | 4             |\n",
    "| 3    | [2]                 | -            | [2]             | 4             |\n",
    "\n",
    "\n",
    "- At each step, the smallest and largest elements are paired and removed if possible.\n",
    "- The process continues until no valid pair remains.\n",
    "- Final minimum length is `1` (only one element left).\n",
    "\n",
    "\n",
    "You can use this table format for any sorted input array to visualize each removal step."
   ]
  },
  {
   "cell_type": "code",
   "execution_count": 15,
   "id": "df64ac5f",
   "metadata": {},
   "outputs": [
    {
     "name": "stdout",
     "output_type": "stream",
     "text": [
      "1\n"
     ]
    }
   ],
   "source": [
    "class Solution:\n",
    "    def minLengthAfterRemovals(self, nums):\n",
    "        # Count the frequency of each number\n",
    "        freq = {}\n",
    "        for num in nums:\n",
    "            freq[num] = freq.get(num, 0) + 1\n",
    "\n",
    "        max_freq = max(freq.values())\n",
    "        total = len(nums)\n",
    "\n",
    "        # If the most frequent number appears more than half, return the difference\n",
    "        if max_freq > total - max_freq:\n",
    "            return max_freq - (total - max_freq)\n",
    "        # Otherwise, return 0 if even length, 1 if odd length\n",
    "        return total % 2\n",
    "\n",
    "# Example usage:\n",
    "sol = Solution()\n",
    "print(sol.minLengthAfterRemovals([1,2,2,3,4]))  # Output: 1"
   ]
  },
  {
   "cell_type": "code",
   "execution_count": null,
   "id": "28426e2f",
   "metadata": {},
   "outputs": [
    {
     "name": "stdout",
     "output_type": "stream",
     "text": [
      "1\n",
      "3\n",
      "5\n"
     ]
    }
   ],
   "source": [
    "class Solution:\n",
    "    def getAlternates(self, arr):\n",
    "        output = []\n",
    "        n = len(arr)\n",
    "        for i in range(n):\n",
    "            if i % 2 == 0:\n",
    "                output.append(arr[i])\n",
    "        return output\n",
    "\n",
    "arr = [1,2,3,4,5]\n",
    "s = Solution()\n",
    "s.getAlternates(arr)"
   ]
  },
  {
   "cell_type": "code",
   "execution_count": null,
   "id": "d14bd819",
   "metadata": {},
   "outputs": [],
   "source": [
    "def convertFive(n):\n",
    "    str_n = str(n)\n",
    "    str_n = str_n.replace('0', '5')\n",
    "    return int(str_n)"
   ]
  },
  {
   "cell_type": "code",
   "execution_count": 12,
   "id": "7b3d5e8e",
   "metadata": {},
   "outputs": [
    {
     "name": "stdout",
     "output_type": "stream",
     "text": [
      "Original: 'hello' -> HELLO\n",
      "Original: 'WORLD' -> world\n",
      "Original: 'Python' -> python\n"
     ]
    }
   ],
   "source": [
    "class Solution:\n",
    "    def modify(self, s):\n",
    "        chars = s[0]\n",
    "        if chars.islower():\n",
    "            return s.upper()  # Convert whole string to uppercase\n",
    "        else:\n",
    "            return s.lower()  # Convert whole string to lowercase\n",
    "\n",
    "# Create instance and test\n",
    "sol = Solution()\n",
    "print(\"Original: 'hello' ->\", sol.modify(\"hello\"))    # hello -> HELLO\n",
    "print(\"Original: 'WORLD' ->\", sol.modify(\"WORLD\"))    # WORLD -> world\n",
    "print(\"Original: 'Python' ->\", sol.modify(\"Python\"))  # Python -> python"
   ]
  },
  {
   "cell_type": "code",
   "execution_count": 8,
   "id": "4e1f5ae3",
   "metadata": {},
   "outputs": [
    {
     "name": "stdout",
     "output_type": "stream",
     "text": [
      "Method 1 - First character:\n",
      "h\n",
      "1\n",
      "\n",
      "Method 2 - First alphabet:\n",
      "h\n",
      "a\n"
     ]
    }
   ],
   "source": [
    "# Method 1: Simple first character (if string is not empty)\n",
    "def modify1(s):\n",
    "    if s:  # Check if string is not empty\n",
    "        return s[0]  # Return first character\n",
    "    return \"\"\n",
    "\n",
    "# Method 2: First alphabetic character only\n",
    "def modify2(s):\n",
    "    for char in s:\n",
    "        if char.isalpha():  # Check if character is alphabetic\n",
    "            return char\n",
    "    return \"\"\n",
    "\n",
    "# Examples\n",
    "print(\"Method 1 - First character:\")\n",
    "print(modify1(\"hello123\"))  # Output: h\n",
    "print(modify1(\"123abc\"))    # Output: 1\n",
    "\n",
    "print(\"\\nMethod 2 - First alphabet:\")\n",
    "print(modify2(\"hello123\"))  # Output: h\n",
    "print(modify2(\"123abc\"))    # Output: a"
   ]
  },
  {
   "cell_type": "code",
   "execution_count": null,
   "id": "5762a272",
   "metadata": {},
   "outputs": [],
   "source": [
    "def concat(s1, s2):\n",
    "    return s1 + s2"
   ]
  },
  {
   "cell_type": "code",
   "execution_count": null,
   "id": "c51f09ea",
   "metadata": {},
   "outputs": [],
   "source": [
    "def printArraywithoutspace(self,arr):\n",
    "    for i in arr:\n",
    "        print(i, end=\"\")\n",
    "    print()  # For newline after printing the array"
   ]
  },
  {
   "cell_type": "code",
   "execution_count": null,
   "id": "d97de790",
   "metadata": {},
   "outputs": [],
   "source": [
    "2 16 13 8 15 10\n",
    "2 16 13 8 15 10\n",
    "2 16 13 8 15 10"
   ]
  },
  {
   "cell_type": "code",
   "execution_count": 13,
   "id": "67ea88d6",
   "metadata": {},
   "outputs": [
    {
     "name": "stdout",
     "output_type": "stream",
     "text": [
      "Without spaces:\n",
      "2161381510\n",
      "With spaces (template):\n",
      "2 16 13 8 15 10 \n"
     ]
    }
   ],
   "source": [
    "# Template version - prints array with spaces\n",
    "class Solution:\n",
    "    def printArray(self, arr):\n",
    "        for i in arr:\n",
    "            print(i, end=\" \")\n",
    "        print()\n",
    "\n",
    "# Test both versions\n",
    "arr = [2, 16, 13, 8, 15, 10]\n",
    "\n",
    "# Your version (without spaces)\n",
    "def printArraywithoutspace(arr):\n",
    "    for i in arr:\n",
    "        print(i, end=\"\")\n",
    "    print()\n",
    "\n",
    "print(\"Without spaces:\")\n",
    "printArraywithoutspace(arr)\n",
    "\n",
    "print(\"With spaces (template):\")\n",
    "sol = Solution()\n",
    "sol.printArray(arr)"
   ]
  },
  {
   "cell_type": "code",
   "execution_count": 15,
   "id": "cd05ef3c",
   "metadata": {},
   "outputs": [
    {
     "name": "stdout",
     "output_type": "stream",
     "text": [
      "Testing different solutions:\n",
      "\n",
      "1. Built-in sum() solution:\n",
      "sum([1, 2, 3, 4, 5]) = 15\n",
      "sum([]) = 0\n",
      "sum([10, -5, 3]) = 8\n",
      "sum([-1, -2, -3]) = -6\n",
      "sum([100]) = 100\n",
      "\n",
      "2. Manual iteration solution:\n",
      "sum([1, 2, 3, 4, 5]) = 15\n",
      "sum([]) = 0\n",
      "sum([10, -5, 3]) = 8\n",
      "sum([-1, -2, -3]) = -6\n",
      "sum([100]) = 100\n",
      "\n",
      "3. Online judge solution (n=array size):\n",
      "findSum(0) = 0\n",
      "findSum(1) = 0\n",
      "findSum(2) = 0\n",
      "findSum(3) = 0\n",
      "findSum(4) = 0\n",
      "findSum(5) = 0\n",
      "\n",
      "✅ Best solution recommendation:\n",
      "Use Solution class with built-in sum() for optimal performance!\n"
     ]
    }
   ],
   "source": [
    "class Solution:\n",
    "    def findSum(self, arr):\n",
    "        \"\"\"\n",
    "        Best solution for finding sum of array elements.\n",
    "        Time Complexity: O(1) using built-in sum()\n",
    "        Space Complexity: O(1)\n",
    "        \"\"\"\n",
    "        return sum(arr)\n",
    "\n",
    "# Alternative solution using manual iteration (if built-in functions not allowed)\n",
    "class SolutionManual:\n",
    "    def findSum(self, arr):\n",
    "        \"\"\"\n",
    "        Manual solution for finding sum of array elements.\n",
    "        Time Complexity: O(n) where n is length of array\n",
    "        Space Complexity: O(1)\n",
    "        \"\"\"\n",
    "        total = 0\n",
    "        for element in arr:\n",
    "            total += element\n",
    "        return total\n",
    "\n",
    "# For online judge problems where n is array size parameter\n",
    "class SolutionOnlineJudge:\n",
    "    def findSum(self, n):\n",
    "        \"\"\"\n",
    "        Solution for online judge where n represents array size.\n",
    "        You would typically read the array from input.\n",
    "        \"\"\"\n",
    "        if n == 0:\n",
    "            return 0\n",
    "        \n",
    "        # In actual online judge environment:\n",
    "        # arr = list(map(int, input().split()))\n",
    "        # return sum(arr)\n",
    "        \n",
    "        # For testing, return 0\n",
    "        return 0\n",
    "\n",
    "# Test all solutions\n",
    "print(\"Testing different solutions:\")\n",
    "\n",
    "# Test with built-in sum (most efficient)\n",
    "sol1 = Solution()\n",
    "test_arrays = [\n",
    "    [1, 2, 3, 4, 5],      # Expected: 15\n",
    "    [],                    # Expected: 0\n",
    "    [10, -5, 3],          # Expected: 8\n",
    "    [-1, -2, -3],         # Expected: -6\n",
    "    [100]                 # Expected: 100\n",
    "]\n",
    "\n",
    "print(\"\\n1. Built-in sum() solution:\")\n",
    "for arr in test_arrays:\n",
    "    result = sol1.findSum(arr)\n",
    "    print(f\"sum({arr}) = {result}\")\n",
    "\n",
    "# Test manual solution\n",
    "sol2 = SolutionManual()\n",
    "print(\"\\n2. Manual iteration solution:\")\n",
    "for arr in test_arrays:\n",
    "    result = sol2.findSum(arr)\n",
    "    print(f\"sum({arr}) = {result}\")\n",
    "\n",
    "# Test online judge solution\n",
    "sol3 = SolutionOnlineJudge()\n",
    "print(\"\\n3. Online judge solution (n=array size):\")\n",
    "for i in range(6):\n",
    "    result = sol3.findSum(i)\n",
    "    print(f\"findSum({i}) = {result}\")\n",
    "\n",
    "print(\"\\n✅ Best solution recommendation:\")\n",
    "print(\"Use Solution class with built-in sum() for optimal performance!\")"
   ]
  },
  {
   "cell_type": "code",
   "execution_count": 2,
   "id": "125c6e37",
   "metadata": {},
   "outputs": [
    {
     "name": "stdout",
     "output_type": "stream",
     "text": [
      "[0, 0, 0, 2, 0, 0, 2]\n"
     ]
    }
   ],
   "source": [
    "n = [1, 2, 3, 4, 5, 6, 7, 8, 9, 10, 1, 2, 3, 4, 5]\n",
    "m = [15, 987, 213, 5, 21, 78, 4]\n",
    "\n",
    "def findfreq(n,m):\n",
    "    freq = {}\n",
    "    for num in n:\n",
    "        freq[num] = freq.get(num, 0) + 1\n",
    "    result = []\n",
    "    for num in m:\n",
    "        result.append(freq.get(num, 0))\n",
    "    return result\n",
    "\n",
    "print(findfreq(n,m))"
   ]
  },
  {
   "cell_type": "code",
   "execution_count": null,
   "id": "2f233f1b",
   "metadata": {},
   "outputs": [],
   "source": [
    "n = [1, 2, 3, 4, 5, 6, 7, 8, 9, 10, 1, 2, 3, 4, 5]\n",
    "m = 2\n",
    "\n",
    "\n",
    "def findfreq(n,m):\n",
    "    freq = {}\n",
    "    for num in n:\n",
    "        freq[num] = freq.get(num, 0) + 1\n",
    "    return freq.get(m, 0)\n"
   ]
  },
  {
   "cell_type": "code",
   "execution_count": 7,
   "id": "d5e3d2e7",
   "metadata": {},
   "outputs": [
    {
     "name": "stdout",
     "output_type": "stream",
     "text": [
      "Array-based approach: [0, 2, 2, 2, 2, 2, 1, 1, 1, 1, 1]\n",
      "Hash table (dict): {1: 2, 2: 2, 3: 2, 4: 2, 5: 2, 6: 1, 7: 1, 8: 1, 9: 1, 10: 1}\n",
      "Defaultdict approach: {1: 2, 2: 2, 3: 2, 4: 2, 5: 2, 6: 1, 7: 1, 8: 1, 9: 1, 10: 1}\n",
      "Counter approach: {1: 2, 2: 2, 3: 2, 4: 2, 5: 2, 6: 1, 7: 1, 8: 1, 9: 1, 10: 1}\n",
      "Hash to array: [0, 2, 2, 2, 2, 2, 1, 1, 1, 1, 1]\n",
      "\n",
      "==================================================\n",
      "📊 COMPARISON OF APPROACHES:\n",
      "==================================================\n",
      "Dictionary approach: 0.1504s\n",
      "Array approach: 0.2985s\n",
      "Dictionary is 1.98x faster!\n",
      "\n",
      "✅ RECOMMENDATION:\n",
      "Use the dictionary approach (findfreq_hash) for best performance and flexibility!\n",
      "Dictionary approach: 0.1504s\n",
      "Array approach: 0.2985s\n",
      "Dictionary is 1.98x faster!\n",
      "\n",
      "✅ RECOMMENDATION:\n",
      "Use the dictionary approach (findfreq_hash) for best performance and flexibility!\n"
     ]
    }
   ],
   "source": [
    "n = [1, 2, 3, 4, 5, 6, 7, 8, 9, 10, 1, 2, 3, 4, 5]\n",
    "\n",
    "# Original array-based approach (for comparison)\n",
    "def findfreq_array(n):\n",
    "    freq = []\n",
    "    for num in n:\n",
    "        while len(freq) <= num:\n",
    "            freq.append(0)\n",
    "        freq[num] += 1\n",
    "    return freq\n",
    "\n",
    "print(\"Array-based approach:\", findfreq_array(n))\n",
    "\n",
    "# 🏆 BEST SOLUTION: Hash table using dictionary\n",
    "def findfreq_hash(n):\n",
    "    \"\"\"\n",
    "    Best hashing solution using Python dictionary.\n",
    "    Time Complexity: O(n) - single pass through array\n",
    "    Space Complexity: O(k) where k is number of unique elements\n",
    "    \"\"\"\n",
    "    freq = {}\n",
    "    for num in n:\n",
    "        freq[num] = freq.get(num, 0) + 1\n",
    "    return freq\n",
    "\n",
    "print(\"Hash table (dict):\", findfreq_hash(n))\n",
    "\n",
    "# Alternative: Using defaultdict (cleaner code)\n",
    "from collections import defaultdict\n",
    "\n",
    "def findfreq_defaultdict(n):\n",
    "    \"\"\"\n",
    "    Using defaultdict for automatic initialization.\n",
    "    Same complexity as dictionary approach.\n",
    "    \"\"\"\n",
    "    freq = defaultdict(int)\n",
    "    for num in n:\n",
    "        freq[num] += 1\n",
    "    return dict(freq)\n",
    "\n",
    "print(\"Defaultdict approach:\", findfreq_defaultdict(n))\n",
    "\n",
    "# Alternative: Using Counter (most Pythonic)\n",
    "from collections import Counter\n",
    "\n",
    "def findfreq_counter(n):\n",
    "    \"\"\"\n",
    "    Most Pythonic solution using Counter.\n",
    "    Built-in optimization for frequency counting.\n",
    "    \"\"\"\n",
    "    return dict(Counter(n))\n",
    "\n",
    "print(\"Counter approach:\", findfreq_counter(n))\n",
    "\n",
    "# If you need array-like output with hash table efficiency\n",
    "def findfreq_hash_to_array(n):\n",
    "    \"\"\"\n",
    "    Hash table approach but returns array-like output.\n",
    "    Best of both worlds: hash efficiency + array format.\n",
    "    \"\"\"\n",
    "    freq_dict = {}\n",
    "    for num in n:\n",
    "        freq_dict[num] = freq_dict.get(num, 0) + 1\n",
    "    \n",
    "    # Convert to array format (if needed)\n",
    "    max_num = max(n) if n else 0\n",
    "    freq_array = [0] * (max_num + 1)\n",
    "    for num, count in freq_dict.items():\n",
    "        freq_array[num] = count\n",
    "    \n",
    "    return freq_array\n",
    "\n",
    "print(\"Hash to array:\", findfreq_hash_to_array(n))\n",
    "\n",
    "print(\"\\n\" + \"=\"*50)\n",
    "print(\"📊 COMPARISON OF APPROACHES:\")\n",
    "print(\"=\"*50)\n",
    "\n",
    "# Performance comparison\n",
    "import time\n",
    "\n",
    "def compare_performance():\n",
    "    large_n = list(range(1, 1001)) * 10  # 10,000 elements\n",
    "    \n",
    "    # Test dictionary approach\n",
    "    start = time.time()\n",
    "    for _ in range(100):\n",
    "        findfreq_hash(large_n)\n",
    "    dict_time = time.time() - start\n",
    "    \n",
    "    # Test array approach\n",
    "    start = time.time()\n",
    "    for _ in range(100):\n",
    "        findfreq_array(large_n)\n",
    "    array_time = time.time() - start\n",
    "    \n",
    "    print(f\"Dictionary approach: {dict_time:.4f}s\")\n",
    "    print(f\"Array approach: {array_time:.4f}s\")\n",
    "    print(f\"Dictionary is {array_time/dict_time:.2f}x faster!\")\n",
    "\n",
    "compare_performance()\n",
    "\n",
    "print(\"\\n✅ RECOMMENDATION:\")\n",
    "print(\"Use the dictionary approach (findfreq_hash) for best performance and flexibility!\")"
   ]
  },
  {
   "cell_type": "code",
   "execution_count": 11,
   "id": "5d8e643f",
   "metadata": {},
   "outputs": [
    {
     "name": "stdout",
     "output_type": "stream",
     "text": [
      "[2, 2, 2, 2, 2, 1, 1, 1, 1, 1, 0, 0, 0, 0, 0]\n"
     ]
    }
   ],
   "source": [
    "def freq(arr):\n",
    "    n = len(arr)\n",
    "    res = [0]* n\n",
    "    for num in arr:\n",
    "            if 1 <= num <= n:\n",
    "                res[num - 1] += 1\n",
    "\n",
    "    return res\n",
    "\n",
    "x = [1, 2, 3, 4, 5, 6, 7, 8, 9, 10, 1, 2, 3, 4, 5]\n",
    "print(freq(x))"
   ]
  },
  {
   "cell_type": "code",
   "execution_count": null,
   "id": "63729f77",
   "metadata": {},
   "outputs": [],
   "source": []
  }
 ],
 "metadata": {
  "kernelspec": {
   "display_name": "Python 3",
   "language": "python",
   "name": "python3"
  },
  "language_info": {
   "codemirror_mode": {
    "name": "ipython",
    "version": 3
   },
   "file_extension": ".py",
   "mimetype": "text/x-python",
   "name": "python",
   "nbconvert_exporter": "python",
   "pygments_lexer": "ipython3",
   "version": "3.13.7"
  }
 },
 "nbformat": 4,
 "nbformat_minor": 5
}
