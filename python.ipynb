{
 "cells": [
  {
   "cell_type": "markdown",
   "id": "8eac9c3e",
   "metadata": {},
   "source": [
    "Given an array of integers nums and an integer target, return indices of the two numbers such that they add up to target.\n",
    "\n",
    "You may assume that each input would have exactly one solution, and you may not use the same element twice.\n",
    "\n",
    "You can return the answer in any order.\n",
    "\n",
    " \n",
    "\n",
    "Example 1:\n",
    "\n",
    "Input: nums = [2,7,11,15], target = 9\n",
    "Output: [0,1]\n",
    "Explanation: Because nums[0] + nums[1] == 9, we return [0, 1].\n",
    "Example 2:\n",
    "\n",
    "Input: nums = [3,2,4], target = 6\n",
    "Output: [1,2]\n",
    "Example 3:\n",
    "\n",
    "Input: nums = [3,3], target = 6\n",
    "Output: [0,1]"
   ]
  },
  {
   "cell_type": "code",
   "execution_count": 5,
   "id": "9392e2e3",
   "metadata": {},
   "outputs": [
    {
     "name": "stdout",
     "output_type": "stream",
     "text": [
      "[[0, 1]]\n",
      "[[1, 2]]\n",
      "[]\n"
     ]
    }
   ],
   "source": [
    "import pandas as pd\n",
    "\n",
    "def twosum(nums, target):\n",
    "    df = pd.DataFrame({'nums': nums, 'index': range(len(nums))})\n",
    "    \n",
    "    # Cross join using how='cross' to get all combinations\n",
    "    merged = df.merge(df, how='cross', suffixes=('_1', '_2'))\n",
    "\n",
    "    # Filter: indices must be different, and nums must sum to target\n",
    "    result = merged[\n",
    "        (merged['index_1'] < merged['index_2']) &\n",
    "        (merged['nums_1'] + merged['nums_2'] == target)\n",
    "    ]\n",
    "\n",
    "    # Return as list of index pairs\n",
    "    return result[['index_1', 'index_2']].values.tolist()\n",
    "\n",
    "if __name__ == \"__main__\":\n",
    "    nums = [2, 7, 11, 15]\n",
    "    target = 9\n",
    "    print(twosum(nums, target))  # Output: [[0, 1]]\n",
    "    \n",
    "    nums = [3, 2, 4]\n",
    "    target = 6\n",
    "    print(twosum(nums, target))  # Output: [[1, 2]]\n",
    "    \n",
    "    nums = [3, 1,2,3,4.5]\n",
    "    target = 50\n",
    "    print(twosum(nums, target))  # Output: [[0, 1]]\n"
   ]
  },
  {
   "cell_type": "code",
   "execution_count": 7,
   "id": "c96541c5",
   "metadata": {},
   "outputs": [
    {
     "name": "stdout",
     "output_type": "stream",
     "text": [
      "\n",
      "Input numbers: [4.0, 847.0, 546.0, 1.0, 8.0, 879.0, 564.0, 1.0, 7.0, 879.0, 54.0, 4.0, 451.0, 21.0, 65.0, 3.0]\n",
      "Target sum: 68.0\n",
      "Index pairs that sum to target: [[14, 15]]\n"
     ]
    }
   ],
   "source": [
    "import pandas as pd\n",
    "\n",
    "def twosum(nums, target):\n",
    "    df = pd.DataFrame({'nums': nums, 'index': range(len(nums))})\n",
    "\n",
    "    # Cross join using how='cross' to get all combinations\n",
    "    merged = df.merge(df, how='cross', suffixes=('_1', '_2'))\n",
    "\n",
    "    # Filter: indices must be different, and nums must sum to target\n",
    "    result = merged[\n",
    "        (merged['index_1'] < merged['index_2']) &\n",
    "        (merged['nums_1'] + merged['nums_2'] == target)\n",
    "    ]\n",
    "\n",
    "    # Return as list of index pairs\n",
    "    return result[['index_1', 'index_2']].values.tolist()\n",
    "\n",
    "if __name__ == \"__main__\":\n",
    "    try:\n",
    "        nums_input = input(\"Enter numbers separated by commas: \")\n",
    "        nums = [float(x.strip()) for x in nums_input.split(\",\")]\n",
    "        target = float(input(\"Enter the target sum: \"))\n",
    "\n",
    "        result = twosum(nums, target)\n",
    "\n",
    "        print(f\"\\nInput numbers: {nums}\")\n",
    "        print(f\"Target sum: {target}\")\n",
    "\n",
    "        if result:\n",
    "            print(f\"Index pairs that sum to target: {result}\")\n",
    "        else:\n",
    "            print(\"Total sum cannot be done.\")\n",
    "\n",
    "    except ValueError:\n",
    "        print(\"Invalid input. Please enter numbers only.\")\n"
   ]
  },
  {
   "cell_type": "code",
   "execution_count": 14,
   "id": "bd0878a1",
   "metadata": {},
   "outputs": [
    {
     "name": "stdout",
     "output_type": "stream",
     "text": [
      "Enter the number of rows and columns (e.g., 3 4): \n",
      "Enter each row with 2 values, separated by spaces or commas (e.g., 1 2 3 or 1,2,3):\n",
      "\n",
      "✅ The matrix you entered is:\n",
      "[1, 2]\n",
      "[2, 3]\n",
      "\n",
      "🎯 Lucky numbers in the matrix are: [2]\n"
     ]
    }
   ],
   "source": [
    "import pandas as pd\n",
    "from typing import List\n",
    "\n",
    "class Solution:\n",
    "    def luckyNumbers(self, matrix: List[List[int]]) -> List[int]:\n",
    "        df = pd.DataFrame(matrix)\n",
    "        \n",
    "        row_mins = df.min(axis=1)\n",
    "        col_maxs = df.max(axis=0)\n",
    "\n",
    "        lucky_nums = []\n",
    "\n",
    "        for i in range(len(df)):\n",
    "            row_min_value = row_mins[i]\n",
    "            col_index_of_min = df.iloc[i].idxmin()\n",
    "            \n",
    "            if row_min_value == col_maxs[col_index_of_min]:\n",
    "                lucky_nums.append(int(row_min_value))  # Convert to regular Python int\n",
    "        \n",
    "        return lucky_nums\n",
    "\n",
    "\n",
    "def get_input_matrix():\n",
    "    # Combined input for rows and columns\n",
    "    print(\"Enter the number of rows and columns (e.g., 3 4): \")\n",
    "    rows, cols = map(int, input().replace(',', ' ').split())\n",
    "\n",
    "    matrix = []\n",
    "    print(f\"Enter each row with {cols} values, separated by spaces or commas (e.g., 1 2 3 or 1,2,3):\")\n",
    "\n",
    "    for i in range(rows):\n",
    "        while True:\n",
    "            row_input = input(f\"Row {i+1}: \").replace(',', ' ')\n",
    "            row = list(map(int, row_input.split()))\n",
    "            if len(row) == cols:\n",
    "                matrix.append(row)\n",
    "                break\n",
    "            else:\n",
    "                print(f\"❌ Row {i+1} must contain exactly {cols} numbers. Please re-enter the row.\")\n",
    "\n",
    "    return matrix\n",
    "\n",
    "\n",
    "if __name__ == \"__main__\":\n",
    "    matrix = get_input_matrix()\n",
    "\n",
    "    print(\"\\n✅ The matrix you entered is:\")\n",
    "    for row in matrix:\n",
    "        print(row)\n",
    "\n",
    "    sol = Solution()\n",
    "    lucky_numbers = sol.luckyNumbers(matrix)\n",
    "\n",
    "    print(\"\\n🎯 Lucky numbers in the matrix are:\", lucky_numbers)\n"
   ]
  },
  {
   "cell_type": "markdown",
   "id": "09e20075",
   "metadata": {},
   "source": [
    "Longest common prefix\n"
   ]
  },
  {
   "cell_type": "code",
   "execution_count": 1,
   "id": "a9c96c66",
   "metadata": {},
   "outputs": [
    {
     "name": "stdout",
     "output_type": "stream",
     "text": [
      "fl\n"
     ]
    }
   ],
   "source": [
    "def longestCommonPrefix(strs):\n",
    "    if not strs:\n",
    "        return \"\"\n",
    "    # Find the minimum length string in the list\n",
    "    min_str = min(strs, key=len)\n",
    "    for i in range(len(min_str)):\n",
    "        for s in strs:\n",
    "            if s[i] != min_str[i]:\n",
    "                return min_str[:i]\n",
    "    return min_str\n",
    "\n",
    "strinput = [\"flower\",\"flow\",\"flight\"]\n",
    "print(longestCommonPrefix(strinput))"
   ]
  },
  {
   "cell_type": "markdown",
   "id": "389179a6",
   "metadata": {},
   "source": [
    "valid parenthesis"
   ]
  },
  {
   "cell_type": "code",
   "execution_count": 4,
   "id": "0081962e",
   "metadata": {},
   "outputs": [
    {
     "name": "stdout",
     "output_type": "stream",
     "text": [
      "True\n",
      "False\n"
     ]
    }
   ],
   "source": [
    "def validparentheses(s):\n",
    "    stack = []\n",
    "    mapping = {\")\": \"(\", \"}\": \"{\", \"]\": \"[\"}\n",
    "    for char in s:\n",
    "        if char in mapping.values():\n",
    "            stack.append(char)\n",
    "        elif char in mapping.keys():\n",
    "            if not stack or stack.pop() != mapping[char]:\n",
    "                return False\n",
    "    return not stack\n",
    "\n",
    "s = \"{[]}\"\n",
    "print(validparentheses(s))\n",
    "\n",
    "k = \"([)]\"\n",
    "print(validparentheses(k))"
   ]
  },
  {
   "cell_type": "code",
   "execution_count": 5,
   "id": "dc409654",
   "metadata": {},
   "outputs": [
    {
     "name": "stdout",
     "output_type": "stream",
     "text": [
      "[1, 2, 3, 4, 5, 6]\n"
     ]
    }
   ],
   "source": [
    "def mergetwolist (l1,l2):\n",
    "    merged = []\n",
    "    i,j =0,0\n",
    "    while i < len(l1) and j < len(l2):\n",
    "        if l1[i] < l2[j]:\n",
    "            merged.append(l1[i])\n",
    "            i += 1\n",
    "        else:\n",
    "            merged.append(l2[j])\n",
    "            j += 1\n",
    "    # Append any remaining elements from either list\n",
    "    merged.extend(l1[i:])\n",
    "    merged.extend(l2[j:])\n",
    "    return merged\n",
    "\n",
    "l1 = [1,3,5]\n",
    "l2 = [2,4,6]\n",
    "print(mergetwolist(l1, l2))"
   ]
  },
  {
   "cell_type": "code",
   "execution_count": 9,
   "id": "632c33bd",
   "metadata": {},
   "outputs": [
    {
     "data": {
      "text/plain": [
       "[1, 0, 0, 0]"
      ]
     },
     "execution_count": 9,
     "metadata": {},
     "output_type": "execute_result"
    }
   ],
   "source": [
    "def plusone(digits):\n",
    "    # Start from the last digit and add one\n",
    "    for i in range(len(digits) - 1, -1, -1):\n",
    "        if digits[i] < 9:\n",
    "            digits[i] += 1\n",
    "            return digits\n",
    "        digits[i] = 0\n",
    "    # If all digits were 9, we need to add a new digit at the front\n",
    "    return [1] + digits\n",
    "\n",
    "digits = [9,9,9]\n",
    "plusone(digits)"
   ]
  },
  {
   "cell_type": "code",
   "execution_count": null,
   "id": "83a20c7e",
   "metadata": {},
   "outputs": [],
   "source": [
    "def plusone(digits):\n",
    "    # Start from the last digit and add one\n",
    "    for i in range(len(digits) - 1, -1, -1):\n",
    "        if digits[i] < 9:\n",
    "            digits[i] += 1\n",
    "            return digits\n",
    "        digits[i] = 0\n",
    "    # If all digits were 9, we need to add a new digit at the front\n",
    "    return [1] + digits\n"
   ]
  },
  {
   "cell_type": "code",
   "execution_count": 10,
   "id": "1bdb187c",
   "metadata": {},
   "outputs": [
    {
     "name": "stdout",
     "output_type": "stream",
     "text": [
      "[1, 2, 3, 1, 2, 3]\n"
     ]
    }
   ],
   "source": [
    "def concatenationarray(nums):\n",
    "    # Concatenate the array with itself\n",
    "    return nums + nums\n",
    "x = [1, 2, 3]\n",
    "print(concatenationarray(x))\n"
   ]
  },
  {
   "cell_type": "code",
   "execution_count": 12,
   "id": "e6b709d0",
   "metadata": {},
   "outputs": [
    {
     "name": "stdout",
     "output_type": "stream",
     "text": [
      "[[1, 2, 3], [1, 3, 2], [2, 1, 3], [2, 3, 1], [3, 1, 2], [3, 2, 1]]\n"
     ]
    }
   ],
   "source": [
    "def permutationarray(nums):\n",
    "    # Generate all permutations of the array\n",
    "    if not nums:\n",
    "        return [[]]\n",
    "    result = []\n",
    "    for i in range(len(nums)):\n",
    "        # Get the current number and the remaining numbers\n",
    "        current = nums[i]\n",
    "        remaining = nums[:i] + nums[i+1:]\n",
    "        # Generate all permutations of the remaining numbers\n",
    "        for p in permutationarray(remaining):\n",
    "            result.append([current] + p)\n",
    "    return result\n",
    "\n",
    "nums = [1, 2, 3]\n",
    "print(permutationarray(nums))"
   ]
  },
  {
   "cell_type": "code",
   "execution_count": 18,
   "id": "da90a667",
   "metadata": {},
   "outputs": [
    {
     "name": "stdout",
     "output_type": "stream",
     "text": [
      "2\n"
     ]
    }
   ],
   "source": [
    "class solution(object):\n",
    "    def findvalueafteroperation(self, digits):\n",
    "        # value = 0\n",
    "        # # Find the value after performing the plus one operation\n",
    "        # mapping = {\"--x\":-1,\"++x\":1,\"x++\":1,\"x--\":-1}\n",
    "        # for op in mapping:\n",
    "        #     if op in digits:\n",
    "        #         value += mapping[op]\n",
    "        # return value\n",
    "        x = 0\n",
    "        for op in s:\n",
    "            if op == \"++x\" or op == \"x++\":\n",
    "                x += 1\n",
    "            elif op == \"--x\" or op == \"x--\":\n",
    "                x -= 1\n",
    "        return x\n",
    "s = [\"x++\",\"x++\"]\n",
    "sol = solution()\n",
    "print(sol.findvalueafteroperation(s))"
   ]
  },
  {
   "cell_type": "code",
   "execution_count": 22,
   "id": "e12d0039",
   "metadata": {},
   "outputs": [
    {
     "data": {
      "text/plain": [
       "[2, 3, 5, 4, 1, 7]"
      ]
     },
     "execution_count": 22,
     "metadata": {},
     "output_type": "execute_result"
    }
   ],
   "source": [
    "def shuffle(nums, n):\n",
    "    # shuffled = []\n",
    "    # for i in range(n):\n",
    "    #     shuffled.append(nums[i])\n",
    "    #     shuffled.append(nums[i + n])\n",
    "    # return shuffled\n",
    "    shuffled = [0] * (2 * n)\n",
    "    for i in range(n):\n",
    "        shuffled[2 * i] = nums[i]\n",
    "        shuffled[2 * i + 1] = nums[i + n]\n",
    "    return shuffled\n",
    "\n",
    "shuffle([2,5,1,3,4,7], 3)"
   ]
  },
  {
   "cell_type": "code",
   "execution_count": 34,
   "id": "9258b450",
   "metadata": {},
   "outputs": [
    {
     "name": "stdout",
     "output_type": "stream",
     "text": [
      "index: 0, string: hello, 'r' not found in string at index 0\n",
      "index: 1, string: world, Found 'r' in string at index 1\n",
      "index: 2, string: leetcode, 'r' not found in string at index 2\n"
     ]
    },
    {
     "data": {
      "text/plain": [
       "[1]"
      ]
     },
     "execution_count": 34,
     "metadata": {},
     "output_type": "execute_result"
    }
   ],
   "source": [
    "class Solution:\n",
    "    def findwordcontaining(self, s, word):\n",
    "        indices = []\n",
    "        for i, string in enumerate(s):\n",
    "            print(f\"index: {i}, string: {string}\", end=\", \")\n",
    "            if word in string:\n",
    "                print(f\"Found '{word}' in string at index {i}\")\n",
    "                indices.append(i)\n",
    "            else:\n",
    "                print(f\"'{word}' not found in string at index {i}\")\n",
    "        return indices\n",
    "\n",
    "s = [\"hello\",\"world\",\"leetcode\"]\n",
    "word = \"r\"\n",
    "Solution().findwordcontaining(s, word)"
   ]
  },
  {
   "cell_type": "code",
   "execution_count": 1,
   "id": "fe12c4ab",
   "metadata": {},
   "outputs": [
    {
     "name": "stdout",
     "output_type": "stream",
     "text": [
      "3\n"
     ]
    }
   ],
   "source": [
    "def numberOfEmployeesWhoMetTarget( hours, target):\n",
    "    count = 0\n",
    "    for h in hours:\n",
    "        if h >= target:\n",
    "            count += 1\n",
    "    return count\n",
    "\n",
    "hours = [0,1,2,3,4]\n",
    "target = 2\n",
    "print(numberOfEmployeesWhoMetTarget(hours, target))"
   ]
  },
  {
   "cell_type": "code",
   "execution_count": 2,
   "id": "4a30d2ad",
   "metadata": {},
   "outputs": [
    {
     "name": "stdout",
     "output_type": "stream",
     "text": [
      "[False, True, True, False, True]\n"
     ]
    }
   ],
   "source": [
    "def kidswithmaxcandies(candies,extracandies):\n",
    "    max_candies = max(candies)\n",
    "    result = []\n",
    "    for candy in candies:\n",
    "        if candy + extracandies >= max_candies:\n",
    "            result.append(True)\n",
    "        else:\n",
    "            result.append(False)\n",
    "    return result\n",
    "\n",
    "candies = [2,3,5,1,3]\n",
    "extracandies = 2\n",
    "print(kidswithmaxcandies(candies, extracandies))"
   ]
  },
  {
   "cell_type": "code",
   "execution_count": 4,
   "id": "27c39c49",
   "metadata": {},
   "outputs": [
    {
     "name": "stdout",
     "output_type": "stream",
     "text": [
      "1\n"
     ]
    }
   ],
   "source": [
    "def countpairs(nums,target):\n",
    "    count = 0\n",
    "    n = len(nums)\n",
    "    for i in range(n):\n",
    "        for j in range(i + 1, n):\n",
    "            if nums[i] + nums[j] < target:\n",
    "                count += 1\n",
    "    return count\n",
    "\n",
    "nums = [4,1,1]\n",
    "target = 3\n",
    "print(countpairs(nums, target))"
   ]
  },
  {
   "cell_type": "code",
   "execution_count": 5,
   "id": "394eeada",
   "metadata": {},
   "outputs": [
    {
     "name": "stdout",
     "output_type": "stream",
     "text": [
      "[4, 0, 1, 1, 3]\n"
     ]
    }
   ],
   "source": [
    "def smaller(num):\n",
    "    result = []\n",
    "    for i in num:\n",
    "        count = 0\n",
    "        for j in num:\n",
    "            if j < i:\n",
    "                count += 1\n",
    "        result.append(count)\n",
    "    return result\n",
    "\n",
    "num = [8,1,2,2,3]\n",
    "print(smaller(num))"
   ]
  },
  {
   "cell_type": "code",
   "execution_count": 6,
   "id": "d2e70b8a",
   "metadata": {},
   "outputs": [
    {
     "name": "stdout",
     "output_type": "stream",
     "text": [
      "[1, 3, 6, 10]\n"
     ]
    }
   ],
   "source": [
    "def runningSum(nums):\n",
    "    running_sum = []\n",
    "    current_sum = 0\n",
    "    for num in nums:\n",
    "        current_sum += num\n",
    "        running_sum.append(current_sum)\n",
    "    return running_sum\n",
    "\n",
    "nums = [1,2,3,4]\n",
    "print(runningSum(nums))"
   ]
  },
  {
   "cell_type": "code",
   "execution_count": 7,
   "id": "03f7e6d2",
   "metadata": {},
   "outputs": [
    {
     "name": "stdout",
     "output_type": "stream",
     "text": [
      "6\n"
     ]
    }
   ],
   "source": [
    "def mostwordsfound(sentences):\n",
    "    max_words = 0\n",
    "    for sentence in sentences:\n",
    "        word_count = len(sentence.split())\n",
    "        if word_count > max_words:\n",
    "            max_words = word_count\n",
    "    return max_words\n",
    "\n",
    "sentences = [\"alice and bob love leetcode\", \"i think so too\", \"this is great thanks very much\"]\n",
    "print(mostwordsfound(sentences))"
   ]
  },
  {
   "cell_type": "code",
   "execution_count": null,
   "id": "8d49ed63",
   "metadata": {},
   "outputs": [],
   "source": []
  },
  {
   "cell_type": "code",
   "execution_count": 8,
   "id": "fda47d80",
   "metadata": {},
   "outputs": [
    {
     "name": "stdout",
     "output_type": "stream",
     "text": [
      "[4, 6, 0, 7]\n"
     ]
    }
   ],
   "source": [
    "def decode(encoded, first):\n",
    "    arr = [first]\n",
    "    for num in encoded:\n",
    "        arr.append(arr[-1] ^ num)\n",
    "    return arr\n",
    "\n",
    "# Example usage:\n",
    "encoded = [2, 6, 7]\n",
    "first = 4\n",
    "print(decode(encoded, first))  # Output: [4, 6, 0, 7]"
   ]
  },
  {
   "cell_type": "code",
   "execution_count": null,
   "id": "ec0292f6",
   "metadata": {},
   "outputs": [],
   "source": [
    "def left_right_difference(nums):\n",
    "    n = len(nums)\n",
    "    leftSum = [0] * n\n",
    "    rightSum = [0] * n\n",
    "    \n",
    "    # Calculate leftSum\n",
    "    for i in range(1, n):\n",
    "        leftSum[i] = leftSum[i-1] + nums[i-1]\n",
    "    \n",
    "    # Calculate rightSum\n",
    "    for i in range(n-2, -1, -1):\n",
    "        rightSum[i] = rightSum[i+1] + nums[i+1]\n",
    "    \n",
    "    # Calculate answer\n",
    "    answer = [abs(leftSum[i] - rightSum[i]) for i in range(n)]\n",
    "    return answer\n"
   ]
  },
  {
   "cell_type": "code",
   "execution_count": null,
   "id": "3918c9a5",
   "metadata": {},
   "outputs": [],
   "source": [
    "def left_right_difference_combined(nums):\n",
    "    n = len(nums)\n",
    "    leftSum = [0] * n\n",
    "    rightSum = [0] * n\n",
    "    \n",
    "    # Calculate leftSum in one pass\n",
    "    total = 0\n",
    "    for i in range(n):\n",
    "        leftSum[i] = total\n",
    "        total += nums[i]\n",
    "    \n",
    "    # Calculate rightSum in one pass\n",
    "    total = 0\n",
    "    for i in range(n-1, -1, -1):\n",
    "        rightSum[i] = total\n",
    "        total += nums[i]\n",
    "    \n",
    "    # Calculate answer\n",
    "    answer = [abs(leftSum[i] - rightSum[i]) for i in range(n)]\n",
    "    return answer\n",
    "\n",
    "# Example usage:\n",
    "nums = [10, 4, 8, 3]\n",
    "print(left_right_difference_combined(nums))  # Output: [15, 1, 11, 22]"
   ]
  },
  {
   "cell_type": "code",
   "execution_count": 10,
   "id": "a002a2b7",
   "metadata": {},
   "outputs": [
    {
     "name": "stdout",
     "output_type": "stream",
     "text": [
      "[0, 4, 1, 3, 2]\n"
     ]
    }
   ],
   "source": [
    "def createTargetArray(nums, index):\n",
    "    target = []\n",
    "    for i in range(len(nums)):\n",
    "        target.insert(index[i], nums[i])\n",
    "    return target\n",
    "nums = [0,1,2,3,4]\n",
    "index = [0,1,2,2,1]\n",
    "print(createTargetArray(nums, index))"
   ]
  },
  {
   "cell_type": "code",
   "execution_count": 12,
   "id": "f804612f",
   "metadata": {},
   "outputs": [
    {
     "name": "stdout",
     "output_type": "stream",
     "text": [
      "[2, 4, 4, 4]\n"
     ]
    }
   ],
   "source": [
    "def decompressRLElist(nums):\n",
    "    decomp = []\n",
    "    n = len(nums)\n",
    "    for i in range(0, n, 2):\n",
    "        freq = nums[i]\n",
    "        val = nums[i + 1]\n",
    "        decomp.extend([val] * freq)\n",
    "    return decomp\n",
    "nums = [1,2,3,4]\n",
    "print(decompressRLElist(nums))"
   ]
  },
  {
   "cell_type": "code",
   "execution_count": 1,
   "id": "9ed86871",
   "metadata": {},
   "outputs": [
    {
     "name": "stdout",
     "output_type": "stream",
     "text": [
      "2\n"
     ]
    }
   ],
   "source": [
    "def arithematictriplet(arr, num):\n",
    "    count = 0\n",
    "    n = len(arr)\n",
    "    for i in range(n):\n",
    "        for j in range(i + 1, n):\n",
    "            for k in range(j + 1, n):\n",
    "                if arr[j] - arr[i] == num and arr[k] - arr[j] == num:\n",
    "                    count += 1\n",
    "    return count\n",
    "arr = [0,1,4,6,7,10]\n",
    "num = 3\n",
    "print(arithematictriplet(arr, num))"
   ]
  },
  {
   "cell_type": "code",
   "execution_count": 2,
   "id": "89340e1c",
   "metadata": {},
   "outputs": [
    {
     "name": "stdout",
     "output_type": "stream",
     "text": [
      "2\n"
     ]
    }
   ],
   "source": [
    "def triplet(arr, diff):\n",
    "    count = 0\n",
    "    a = set(arr)\n",
    "    for x in arr:\n",
    "        if x + diff in a and x + 2 * diff in a:\n",
    "            count += 1\n",
    "    return count\n",
    "\n",
    "arr = [0,1,4,6,7,10]\n",
    "num = 3\n",
    "print(triplet(arr, num))\n"
   ]
  },
  {
   "cell_type": "code",
   "execution_count": 6,
   "id": "3246c9e2",
   "metadata": {},
   "outputs": [
    {
     "name": "stdout",
     "output_type": "stream",
     "text": [
      "2\n"
     ]
    }
   ],
   "source": [
    "def minop(nums, k):\n",
    "    n = len(nums)\n",
    "    nums.sort()\n",
    "    for i in range(n):\n",
    "        if nums[i] >= k:\n",
    "            return i\n",
    "    return n\n",
    "\n",
    "nums = [2,3,5,1,3]\n",
    "k = 3\n",
    "print(minop(nums, k))"
   ]
  },
  {
   "cell_type": "code",
   "execution_count": 10,
   "id": "101eabb2",
   "metadata": {},
   "outputs": [
    {
     "name": "stdout",
     "output_type": "stream",
     "text": [
      "3\n"
     ]
    }
   ],
   "source": [
    "def minop(nums, k):\n",
    "    n = len(nums)\n",
    "    nums.sort(reverse=True)\n",
    "    for i in range(n - 1, -1, -1):\n",
    "        if nums[i] >= k:\n",
    "            return n - 1 - i\n",
    "\n",
    "    return n\n",
    "\n",
    "nums = [2, 11,10,1,3]\n",
    "k = 10\n",
    "print(minop(nums, k))"
   ]
  },
  {
   "cell_type": "code",
   "execution_count": null,
   "id": "28333dd5",
   "metadata": {},
   "outputs": [],
   "source": []
  },
  {
   "cell_type": "code",
   "execution_count": 11,
   "id": "128ca08a",
   "metadata": {},
   "outputs": [
    {
     "name": "stdout",
     "output_type": "stream",
     "text": [
      "Original list: [2, 11, 10, 1, 3]\n",
      "Value of k: 10\n",
      "Number of elements >= 10: 0\n",
      "--------------------\n"
     ]
    }
   ],
   "source": [
    "def count_elements_descending(nums, k):\n",
    " \n",
    "    nums.sort(reverse=True)\n",
    "    n = len(nums)\n",
    "    \n",
    "    # Iterate through the sorted list from the beginning\n",
    "    for i in range(n):\n",
    "        # If we find a number that is less than k...\n",
    "        if nums[i] > k:\n",
    "            # ...it means all subsequent numbers are also less than k.\n",
    "            # The elements from index 0 to i-1 are the ones >= k.\n",
    "            # The count of these elements is exactly i.\n",
    "            return i\n",
    "            \n",
    "    # If the loop completes, it means all numbers in the list are >= k.\n",
    "    # In this case, all 'n' elements meet the condition.\n",
    "    return n\n",
    "\n",
    "# --- Example Usage ---\n",
    "nums_list = [2, 11,10,1,3]\n",
    "k_value = 10\n",
    "\n",
    "print(f\"Original list: {nums_list}\")\n",
    "print(f\"Value of k: {k_value}\")\n",
    "\n",
    "result = count_elements_descending(nums_list, k_value)\n",
    "print(f\"Number of elements >= {k_value}: {result}\")\n",
    "\n",
    "print(\"-\" * 20)\n",
    "\n",
    "# nums_list_2 = [1, 1, 2, 4, 9]\n",
    "# k_value_2 = 6\n",
    "# print(f\"Original list: {nums_list_2}\")\n",
    "# print(f\"Value of k: {k_value_2}\")\n",
    "\n",
    "# result_2 = count_elements_descending(nums_list_2, k_value_2)\n",
    "# print(f\"Number of elements >= {k_value_2}: {result_2}\")"
   ]
  },
  {
   "cell_type": "code",
   "execution_count": 12,
   "id": "8dff7a40",
   "metadata": {},
   "outputs": [
    {
     "name": "stdout",
     "output_type": "stream",
     "text": [
      "True\n"
     ]
    }
   ],
   "source": [
    "def arraystingcheck(word1,word2):\n",
    "    return ''.join(word1) == ''.join(word2)\n",
    "\n",
    "d = [\"ab\", \"c\"]\n",
    "print(arraystingcheck(d, [\"a\", \"bc\"]))"
   ]
  },
  {
   "cell_type": "code",
   "execution_count": null,
   "id": "17a385a8",
   "metadata": {},
   "outputs": [],
   "source": []
  },
  {
   "cell_type": "code",
   "execution_count": 13,
   "id": "b5cdada7",
   "metadata": {},
   "outputs": [
    {
     "name": "stdout",
     "output_type": "stream",
     "text": [
      "word1 represents: 'abc'\n",
      "word2 represents: 'abc'\n",
      "Are they the same? True\n",
      "--------------------\n",
      "word3 represents: 'acb'\n",
      "word4 represents: 'abc'\n",
      "Are they the same? False\n"
     ]
    }
   ],
   "source": [
    "def arraystringcheck_manual_concat(word1, word2):\n",
    "    \"\"\"\n",
    "    Checks if two string arrays represent the same string by manually\n",
    "    concatenating them using loops.\n",
    "    \"\"\"\n",
    "    # Manually concatenate the first list of strings\n",
    "    str1 = \"\"\n",
    "    for s in word1:\n",
    "        str1 += s\n",
    "\n",
    "    # Manually concatenate the second list of strings\n",
    "    str2 = \"\"\n",
    "    for s in word2:\n",
    "        str2 += s\n",
    "\n",
    "    # Compare the two resulting strings\n",
    "    return str1 == str2\n",
    "\n",
    "# --- Example Usage ---\n",
    "word1_list = [\"ab\", \"c\"]\n",
    "word2_list = [\"a\", \"bc\"]\n",
    "\n",
    "print(f\"word1 represents: '{''.join(word1_list)}'\")\n",
    "print(f\"word2 represents: '{''.join(word2_list)}'\")\n",
    "print(f\"Are they the same? {arraystringcheck_manual_concat(word1_list, word2_list)}\")\n",
    "\n",
    "print(\"-\" * 20)\n",
    "\n",
    "word3_list = [\"a\", \"cb\"]\n",
    "word4_list = [\"ab\", \"c\"]\n",
    "print(f\"word3 represents: '{''.join(word3_list)}'\")\n",
    "print(f\"word4 represents: '{''.join(word4_list)}'\")\n",
    "print(f\"Are they the same? {arraystringcheck_manual_concat(word3_list, word4_list)}\")"
   ]
  },
  {
   "cell_type": "code",
   "execution_count": 15,
   "id": "b26e460a",
   "metadata": {},
   "outputs": [
    {
     "name": "stdout",
     "output_type": "stream",
     "text": [
      "word1 represents: 'abc'\n",
      "word2 represents: 'abc'\n",
      "Are they the same? True\n",
      "--------------------\n",
      "word3 represents: 'acb'\n",
      "word4 represents: 'abc'\n",
      "Are they the same? False\n"
     ]
    }
   ],
   "source": [
    "import functools\n",
    "import operator\n",
    "\n",
    "def arraystringcheck_reduce(word1, word2):\n",
    "    \"\"\"\n",
    "    Checks if two string arrays are equivalent by using functools.reduce\n",
    "    to concatenate the strings in each list.\n",
    "    \"\"\"\n",
    "    # Use reduce to apply the add operator sequentially to all items in word1\n",
    "    # This is equivalent to \"a\" + \"b\" + \"c\" ...\n",
    "    str1 = functools.reduce(operator.add, word1)\n",
    "\n",
    "    # Do the same for the second list\n",
    "    str2 = functools.reduce(operator.add, word2)\n",
    "\n",
    "    # Compare the final concatenated strings\n",
    "    return str1 == str2\n",
    "\n",
    "# --- Example Usage ---\n",
    "word1_list = [\"ab\", \"c\"]\n",
    "word2_list = [\"a\", \"bc\"]\n",
    "\n",
    "print(f\"word1 represents: '{functools.reduce(operator.add, word1_list)}'\")\n",
    "print(f\"word2 represents: '{functools.reduce(operator.add, word2_list)}'\")\n",
    "print(f\"Are they the same? {arraystringcheck_reduce(word1_list, word2_list)}\")\n",
    "\n",
    "print(\"-\" * 20)\n",
    "\n",
    "word3_list = [\"a\", \"cb\"]\n",
    "word4_list = [\"ab\", \"c\"]\n",
    "print(f\"word3 represents: '{functools.reduce(operator.add, word3_list)}'\")\n",
    "print(f\"word4 represents: '{functools.reduce(operator.add, word4_list)}'\")\n",
    "print(f\"Are they the same? {arraystringcheck_reduce(word3_list, word4_list)}\")"
   ]
  },
  {
   "cell_type": "code",
   "execution_count": null,
   "id": "367fe7b6",
   "metadata": {},
   "outputs": [],
   "source": []
  },
  {
   "cell_type": "markdown",
   "id": "ccbd78bc",
   "metadata": {},
   "source": [
    "## Understanding the `functools` Module\n",
    "\n",
    "The `functools` module provides tools for **higher-order functions**, which are functions that operate on or return other functions. It's a powerful part of Python's standard library for creating flexible and reusable code.\n",
    "\n",
    "Here are some of its most important functions:\n",
    "\n",
    "### 1. `functools.reduce()`\n",
    "- **Purpose**: To \"reduce\" a sequence (like a list) to a single cumulative value by applying a function repeatedly.\n",
    "- **How it works**: It takes a function and a sequence. It applies the function to the first two items, then applies it to the result and the third item, and so on.\n",
    "- **Example**: Summing a list `[1, 2, 3, 4]` is done by computing `(((1+2)+3)+4)`.\n",
    "\n",
    "### 2. `functools.partial()`\n",
    "- **Purpose**: To \"freeze\" some of a function's arguments, creating a new, simpler function with a specific purpose.\n",
    "- **How it works**: You give it a function and some default arguments. It returns a new function that will always be called with those default arguments.\n",
    "- **Example**: If you have a function `multiply(x, y)`, you can create a new `double` function by \"freezing\" the `y` argument to `2`.\n",
    "\n",
    "### 3. `functools.wraps()` (for Decorators)\n",
    "- **Purpose**: A helper function used when creating your own decorators. It ensures that the metadata (like the name and docstring) of the original function is preserved in the decorated function.\n",
    "- **Decorators**: A decorator is a special function that takes another function and extends its behavior without explicitly modifying it. For example, you could write a decorator to time how long a function takes to run. `wraps` makes these decorators clean and professional."
   ]
  },
  {
   "cell_type": "code",
   "execution_count": 18,
   "id": "c6a493c7",
   "metadata": {},
   "outputs": [
    {
     "name": "stdout",
     "output_type": "stream",
     "text": [
      "1\n"
     ]
    }
   ],
   "source": [
    "def countmatch(item,rulekey,rulevalue):\n",
    "    count = 0\n",
    "    for i in item:\n",
    "        if rulekey == \"type\" and i[0] == rulevalue:\n",
    "            count += 1\n",
    "        elif rulekey == \"color\" and i[1] == rulevalue:\n",
    "            count += 1\n",
    "        elif rulekey == \"name\" and i[2] == rulevalue:\n",
    "            count += 1\n",
    "    return count\n",
    "\n",
    "valuep = [[\"phone\",\"blue\",\"pixel\"],[\"computer\",\"silver\",\"lenovo\"],[\"phone\",\"gold\",\"iphone\"]]\n",
    "rulekey = \"color\"\n",
    "rulevalue = \"blue\" \n",
    "print(countmatch(valuep,rulekey,rulevalue))"
   ]
  },
  {
   "cell_type": "code",
   "execution_count": 19,
   "id": "6c5b1fb0",
   "metadata": {},
   "outputs": [
    {
     "name": "stdout",
     "output_type": "stream",
     "text": [
      "Hello how are you\n"
     ]
    }
   ],
   "source": [
    "def truncatesentence(s,k):\n",
    "    words = s.split()\n",
    "    return ' '.join(words[:k])\n",
    "\n",
    "s = \"Hello how are you Contestant\"\n",
    "k = 4\n",
    "print(truncatesentence(s,k))"
   ]
  },
  {
   "cell_type": "code",
   "execution_count": null,
   "id": "54802132",
   "metadata": {},
   "outputs": [],
   "source": []
  }
 ],
 "metadata": {
  "kernelspec": {
   "display_name": "Python 3",
   "language": "python",
   "name": "python3"
  },
  "language_info": {
   "codemirror_mode": {
    "name": "ipython",
    "version": 3
   },
   "file_extension": ".py",
   "mimetype": "text/x-python",
   "name": "python",
   "nbconvert_exporter": "python",
   "pygments_lexer": "ipython3",
   "version": "3.13.1"
  }
 },
 "nbformat": 4,
 "nbformat_minor": 5
}
