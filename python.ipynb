{
 "cells": [
  {
   "cell_type": "markdown",
   "id": "8eac9c3e",
   "metadata": {},
   "source": [
    "Given an array of integers nums and an integer target, return indices of the two numbers such that they add up to target.\n",
    "\n",
    "You may assume that each input would have exactly one solution, and you may not use the same element twice.\n",
    "\n",
    "You can return the answer in any order.\n",
    "\n",
    " \n",
    "\n",
    "Example 1:\n",
    "\n",
    "Input: nums = [2,7,11,15], target = 9\n",
    "Output: [0,1]\n",
    "Explanation: Because nums[0] + nums[1] == 9, we return [0, 1].\n",
    "Example 2:\n",
    "\n",
    "Input: nums = [3,2,4], target = 6\n",
    "Output: [1,2]\n",
    "Example 3:\n",
    "\n",
    "Input: nums = [3,3], target = 6\n",
    "Output: [0,1]"
   ]
  },
  {
   "cell_type": "code",
   "execution_count": 5,
   "id": "9392e2e3",
   "metadata": {},
   "outputs": [
    {
     "name": "stdout",
     "output_type": "stream",
     "text": [
      "[[0, 1]]\n",
      "[[1, 2]]\n",
      "[]\n"
     ]
    }
   ],
   "source": [
    "import pandas as pd\n",
    "\n",
    "def twosum(nums, target):\n",
    "    df = pd.DataFrame({'nums': nums, 'index': range(len(nums))})\n",
    "    \n",
    "    # Cross join using how='cross' to get all combinations\n",
    "    merged = df.merge(df, how='cross', suffixes=('_1', '_2'))\n",
    "\n",
    "    # Filter: indices must be different, and nums must sum to target\n",
    "    result = merged[\n",
    "        (merged['index_1'] < merged['index_2']) &\n",
    "        (merged['nums_1'] + merged['nums_2'] == target)\n",
    "    ]\n",
    "\n",
    "    # Return as list of index pairs\n",
    "    return result[['index_1', 'index_2']].values.tolist()\n",
    "\n",
    "if __name__ == \"__main__\":\n",
    "    nums = [2, 7, 11, 15]\n",
    "    target = 9\n",
    "    print(twosum(nums, target))  # Output: [[0, 1]]\n",
    "    \n",
    "    nums = [3, 2, 4]\n",
    "    target = 6\n",
    "    print(twosum(nums, target))  # Output: [[1, 2]]\n",
    "    \n",
    "    nums = [3, 1,2,3,4.5]\n",
    "    target = 50\n",
    "    print(twosum(nums, target))  # Output: [[0, 1]]\n"
   ]
  },
  {
   "cell_type": "code",
   "execution_count": 7,
   "id": "c96541c5",
   "metadata": {},
   "outputs": [
    {
     "name": "stdout",
     "output_type": "stream",
     "text": [
      "\n",
      "Input numbers: [4.0, 847.0, 546.0, 1.0, 8.0, 879.0, 564.0, 1.0, 7.0, 879.0, 54.0, 4.0, 451.0, 21.0, 65.0, 3.0]\n",
      "Target sum: 68.0\n",
      "Index pairs that sum to target: [[14, 15]]\n"
     ]
    }
   ],
   "source": [
    "import pandas as pd\n",
    "\n",
    "def twosum(nums, target):\n",
    "    df = pd.DataFrame({'nums': nums, 'index': range(len(nums))})\n",
    "\n",
    "    # Cross join using how='cross' to get all combinations\n",
    "    merged = df.merge(df, how='cross', suffixes=('_1', '_2'))\n",
    "\n",
    "    # Filter: indices must be different, and nums must sum to target\n",
    "    result = merged[\n",
    "        (merged['index_1'] < merged['index_2']) &\n",
    "        (merged['nums_1'] + merged['nums_2'] == target)\n",
    "    ]\n",
    "\n",
    "    # Return as list of index pairs\n",
    "    return result[['index_1', 'index_2']].values.tolist()\n",
    "\n",
    "if __name__ == \"__main__\":\n",
    "    try:\n",
    "        nums_input = input(\"Enter numbers separated by commas: \")\n",
    "        nums = [float(x.strip()) for x in nums_input.split(\",\")]\n",
    "        target = float(input(\"Enter the target sum: \"))\n",
    "\n",
    "        result = twosum(nums, target)\n",
    "\n",
    "        print(f\"\\nInput numbers: {nums}\")\n",
    "        print(f\"Target sum: {target}\")\n",
    "\n",
    "        if result:\n",
    "            print(f\"Index pairs that sum to target: {result}\")\n",
    "        else:\n",
    "            print(\"Total sum cannot be done.\")\n",
    "\n",
    "    except ValueError:\n",
    "        print(\"Invalid input. Please enter numbers only.\")\n"
   ]
  },
  {
   "cell_type": "code",
   "execution_count": 14,
   "id": "bd0878a1",
   "metadata": {},
   "outputs": [
    {
     "name": "stdout",
     "output_type": "stream",
     "text": [
      "Enter the number of rows and columns (e.g., 3 4): \n",
      "Enter each row with 2 values, separated by spaces or commas (e.g., 1 2 3 or 1,2,3):\n",
      "\n",
      "✅ The matrix you entered is:\n",
      "[1, 2]\n",
      "[2, 3]\n",
      "\n",
      "🎯 Lucky numbers in the matrix are: [2]\n"
     ]
    }
   ],
   "source": [
    "import pandas as pd\n",
    "from typing import List\n",
    "\n",
    "class Solution:\n",
    "    def luckyNumbers(self, matrix: List[List[int]]) -> List[int]:\n",
    "        df = pd.DataFrame(matrix)\n",
    "        \n",
    "        row_mins = df.min(axis=1)\n",
    "        col_maxs = df.max(axis=0)\n",
    "\n",
    "        lucky_nums = []\n",
    "\n",
    "        for i in range(len(df)):\n",
    "            row_min_value = row_mins[i]\n",
    "            col_index_of_min = df.iloc[i].idxmin()\n",
    "            \n",
    "            if row_min_value == col_maxs[col_index_of_min]:\n",
    "                lucky_nums.append(int(row_min_value))  # Convert to regular Python int\n",
    "        \n",
    "        return lucky_nums\n",
    "\n",
    "\n",
    "def get_input_matrix():\n",
    "    # Combined input for rows and columns\n",
    "    print(\"Enter the number of rows and columns (e.g., 3 4): \")\n",
    "    rows, cols = map(int, input().replace(',', ' ').split())\n",
    "\n",
    "    matrix = []\n",
    "    print(f\"Enter each row with {cols} values, separated by spaces or commas (e.g., 1 2 3 or 1,2,3):\")\n",
    "\n",
    "    for i in range(rows):\n",
    "        while True:\n",
    "            row_input = input(f\"Row {i+1}: \").replace(',', ' ')\n",
    "            row = list(map(int, row_input.split()))\n",
    "            if len(row) == cols:\n",
    "                matrix.append(row)\n",
    "                break\n",
    "            else:\n",
    "                print(f\"❌ Row {i+1} must contain exactly {cols} numbers. Please re-enter the row.\")\n",
    "\n",
    "    return matrix\n",
    "\n",
    "\n",
    "if __name__ == \"__main__\":\n",
    "    matrix = get_input_matrix()\n",
    "\n",
    "    print(\"\\n✅ The matrix you entered is:\")\n",
    "    for row in matrix:\n",
    "        print(row)\n",
    "\n",
    "    sol = Solution()\n",
    "    lucky_numbers = sol.luckyNumbers(matrix)\n",
    "\n",
    "    print(\"\\n🎯 Lucky numbers in the matrix are:\", lucky_numbers)\n"
   ]
  },
  {
   "cell_type": "code",
   "execution_count": null,
   "id": "a9c96c66",
   "metadata": {},
   "outputs": [],
   "source": []
  }
 ],
 "metadata": {
  "kernelspec": {
   "display_name": "Python 3",
   "language": "python",
   "name": "python3"
  },
  "language_info": {
   "codemirror_mode": {
    "name": "ipython",
    "version": 3
   },
   "file_extension": ".py",
   "mimetype": "text/x-python",
   "name": "python",
   "nbconvert_exporter": "python",
   "pygments_lexer": "ipython3",
   "version": "3.13.1"
  }
 },
 "nbformat": 4,
 "nbformat_minor": 5
}
