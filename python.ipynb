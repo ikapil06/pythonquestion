{
 "cells": [
  {
   "cell_type": "markdown",
   "id": "8eac9c3e",
   "metadata": {},
   "source": [
    "Given an array of integers nums and an integer target, return indices of the two numbers such that they add up to target.\n",
    "\n",
    "You may assume that each input would have exactly one solution, and you may not use the same element twice.\n",
    "\n",
    "You can return the answer in any order.\n",
    "\n",
    " \n",
    "\n",
    "Example 1:\n",
    "\n",
    "Input: nums = [2,7,11,15], target = 9\n",
    "Output: [0,1]\n",
    "Explanation: Because nums[0] + nums[1] == 9, we return [0, 1].\n",
    "Example 2:\n",
    "\n",
    "Input: nums = [3,2,4], target = 6\n",
    "Output: [1,2]\n",
    "Example 3:\n",
    "\n",
    "Input: nums = [3,3], target = 6\n",
    "Output: [0,1]"
   ]
  },
  {
   "cell_type": "code",
   "execution_count": 5,
   "id": "9392e2e3",
   "metadata": {},
   "outputs": [
    {
     "name": "stdout",
     "output_type": "stream",
     "text": [
      "[[0, 1]]\n",
      "[[1, 2]]\n",
      "[]\n"
     ]
    }
   ],
   "source": [
    "import pandas as pd\n",
    "\n",
    "def twosum(nums, target):\n",
    "    df = pd.DataFrame({'nums': nums, 'index': range(len(nums))})\n",
    "    \n",
    "    # Cross join using how='cross' to get all combinations\n",
    "    merged = df.merge(df, how='cross', suffixes=('_1', '_2'))\n",
    "\n",
    "    # Filter: indices must be different, and nums must sum to target\n",
    "    result = merged[\n",
    "        (merged['index_1'] < merged['index_2']) &\n",
    "        (merged['nums_1'] + merged['nums_2'] == target)\n",
    "    ]\n",
    "\n",
    "    # Return as list of index pairs\n",
    "    return result[['index_1', 'index_2']].values.tolist()\n",
    "\n",
    "if __name__ == \"__main__\":\n",
    "    nums = [2, 7, 11, 15]\n",
    "    target = 9\n",
    "    print(twosum(nums, target))  # Output: [[0, 1]]\n",
    "    \n",
    "    nums = [3, 2, 4]\n",
    "    target = 6\n",
    "    print(twosum(nums, target))  # Output: [[1, 2]]\n",
    "    \n",
    "    nums = [3, 1,2,3,4.5]\n",
    "    target = 50\n",
    "    print(twosum(nums, target))  # Output: [[0, 1]]\n"
   ]
  },
  {
   "cell_type": "code",
   "execution_count": 7,
   "id": "c96541c5",
   "metadata": {},
   "outputs": [
    {
     "name": "stdout",
     "output_type": "stream",
     "text": [
      "\n",
      "Input numbers: [4.0, 847.0, 546.0, 1.0, 8.0, 879.0, 564.0, 1.0, 7.0, 879.0, 54.0, 4.0, 451.0, 21.0, 65.0, 3.0]\n",
      "Target sum: 68.0\n",
      "Index pairs that sum to target: [[14, 15]]\n"
     ]
    }
   ],
   "source": [
    "import pandas as pd\n",
    "\n",
    "def twosum(nums, target):\n",
    "    df = pd.DataFrame({'nums': nums, 'index': range(len(nums))})\n",
    "\n",
    "    # Cross join using how='cross' to get all combinations\n",
    "    merged = df.merge(df, how='cross', suffixes=('_1', '_2'))\n",
    "\n",
    "    # Filter: indices must be different, and nums must sum to target\n",
    "    result = merged[\n",
    "        (merged['index_1'] < merged['index_2']) &\n",
    "        (merged['nums_1'] + merged['nums_2'] == target)\n",
    "    ]\n",
    "\n",
    "    # Return as list of index pairs\n",
    "    return result[['index_1', 'index_2']].values.tolist()\n",
    "\n",
    "if __name__ == \"__main__\":\n",
    "    try:\n",
    "        nums_input = input(\"Enter numbers separated by commas: \")\n",
    "        nums = [float(x.strip()) for x in nums_input.split(\",\")]\n",
    "        target = float(input(\"Enter the target sum: \"))\n",
    "\n",
    "        result = twosum(nums, target)\n",
    "\n",
    "        print(f\"\\nInput numbers: {nums}\")\n",
    "        print(f\"Target sum: {target}\")\n",
    "\n",
    "        if result:\n",
    "            print(f\"Index pairs that sum to target: {result}\")\n",
    "        else:\n",
    "            print(\"Total sum cannot be done.\")\n",
    "\n",
    "    except ValueError:\n",
    "        print(\"Invalid input. Please enter numbers only.\")\n"
   ]
  },
  {
   "cell_type": "code",
   "execution_count": 14,
   "id": "bd0878a1",
   "metadata": {},
   "outputs": [
    {
     "name": "stdout",
     "output_type": "stream",
     "text": [
      "Enter the number of rows and columns (e.g., 3 4): \n",
      "Enter each row with 2 values, separated by spaces or commas (e.g., 1 2 3 or 1,2,3):\n",
      "\n",
      "✅ The matrix you entered is:\n",
      "[1, 2]\n",
      "[2, 3]\n",
      "\n",
      "🎯 Lucky numbers in the matrix are: [2]\n"
     ]
    }
   ],
   "source": [
    "import pandas as pd\n",
    "from typing import List\n",
    "\n",
    "class Solution:\n",
    "    def luckyNumbers(self, matrix: List[List[int]]) -> List[int]:\n",
    "        df = pd.DataFrame(matrix)\n",
    "        \n",
    "        row_mins = df.min(axis=1)\n",
    "        col_maxs = df.max(axis=0)\n",
    "\n",
    "        lucky_nums = []\n",
    "\n",
    "        for i in range(len(df)):\n",
    "            row_min_value = row_mins[i]\n",
    "            col_index_of_min = df.iloc[i].idxmin()\n",
    "            \n",
    "            if row_min_value == col_maxs[col_index_of_min]:\n",
    "                lucky_nums.append(int(row_min_value))  # Convert to regular Python int\n",
    "        \n",
    "        return lucky_nums\n",
    "\n",
    "\n",
    "def get_input_matrix():\n",
    "    # Combined input for rows and columns\n",
    "    print(\"Enter the number of rows and columns (e.g., 3 4): \")\n",
    "    rows, cols = map(int, input().replace(',', ' ').split())\n",
    "\n",
    "    matrix = []\n",
    "    print(f\"Enter each row with {cols} values, separated by spaces or commas (e.g., 1 2 3 or 1,2,3):\")\n",
    "\n",
    "    for i in range(rows):\n",
    "        while True:\n",
    "            row_input = input(f\"Row {i+1}: \").replace(',', ' ')\n",
    "            row = list(map(int, row_input.split()))\n",
    "            if len(row) == cols:\n",
    "                matrix.append(row)\n",
    "                break\n",
    "            else:\n",
    "                print(f\"❌ Row {i+1} must contain exactly {cols} numbers. Please re-enter the row.\")\n",
    "\n",
    "    return matrix\n",
    "\n",
    "\n",
    "if __name__ == \"__main__\":\n",
    "    matrix = get_input_matrix()\n",
    "\n",
    "    print(\"\\n✅ The matrix you entered is:\")\n",
    "    for row in matrix:\n",
    "        print(row)\n",
    "\n",
    "    sol = Solution()\n",
    "    lucky_numbers = sol.luckyNumbers(matrix)\n",
    "\n",
    "    print(\"\\n🎯 Lucky numbers in the matrix are:\", lucky_numbers)\n"
   ]
  },
  {
   "cell_type": "markdown",
   "id": "09e20075",
   "metadata": {},
   "source": [
    "Longest common prefix\n"
   ]
  },
  {
   "cell_type": "code",
   "execution_count": 1,
   "id": "a9c96c66",
   "metadata": {},
   "outputs": [
    {
     "name": "stdout",
     "output_type": "stream",
     "text": [
      "fl\n"
     ]
    }
   ],
   "source": [
    "def longestCommonPrefix(strs):\n",
    "    if not strs:\n",
    "        return \"\"\n",
    "    # Find the minimum length string in the list\n",
    "    min_str = min(strs, key=len)\n",
    "    for i in range(len(min_str)):\n",
    "        for s in strs:\n",
    "            if s[i] != min_str[i]:\n",
    "                return min_str[:i]\n",
    "    return min_str\n",
    "\n",
    "strinput = [\"flower\",\"flow\",\"flight\"]\n",
    "print(longestCommonPrefix(strinput))"
   ]
  },
  {
   "cell_type": "markdown",
   "id": "389179a6",
   "metadata": {},
   "source": [
    "valid parenthesis"
   ]
  },
  {
   "cell_type": "code",
   "execution_count": 4,
   "id": "0081962e",
   "metadata": {},
   "outputs": [
    {
     "name": "stdout",
     "output_type": "stream",
     "text": [
      "True\n",
      "False\n"
     ]
    }
   ],
   "source": [
    "def validparentheses(s):\n",
    "    stack = []\n",
    "    mapping = {\")\": \"(\", \"}\": \"{\", \"]\": \"[\"}\n",
    "    for char in s:\n",
    "        if char in mapping.values():\n",
    "            stack.append(char)\n",
    "        elif char in mapping.keys():\n",
    "            if not stack or stack.pop() != mapping[char]:\n",
    "                return False\n",
    "    return not stack\n",
    "\n",
    "s = \"{[]}\"\n",
    "print(validparentheses(s))\n",
    "\n",
    "k = \"([)]\"\n",
    "print(validparentheses(k))"
   ]
  },
  {
   "cell_type": "code",
   "execution_count": 5,
   "id": "dc409654",
   "metadata": {},
   "outputs": [
    {
     "name": "stdout",
     "output_type": "stream",
     "text": [
      "[1, 2, 3, 4, 5, 6]\n"
     ]
    }
   ],
   "source": [
    "def mergetwolist (l1,l2):\n",
    "    merged = []\n",
    "    i,j =0,0\n",
    "    while i < len(l1) and j < len(l2):\n",
    "        if l1[i] < l2[j]:\n",
    "            merged.append(l1[i])\n",
    "            i += 1\n",
    "        else:\n",
    "            merged.append(l2[j])\n",
    "            j += 1\n",
    "    # Append any remaining elements from either list\n",
    "    merged.extend(l1[i:])\n",
    "    merged.extend(l2[j:])\n",
    "    return merged\n",
    "\n",
    "l1 = [1,3,5]\n",
    "l2 = [2,4,6]\n",
    "print(mergetwolist(l1, l2))"
   ]
  },
  {
   "cell_type": "code",
   "execution_count": 9,
   "id": "632c33bd",
   "metadata": {},
   "outputs": [
    {
     "data": {
      "text/plain": [
       "[1, 0, 0, 0]"
      ]
     },
     "execution_count": 9,
     "metadata": {},
     "output_type": "execute_result"
    }
   ],
   "source": [
    "def plusone(digits):\n",
    "    # Start from the last digit and add one\n",
    "    for i in range(len(digits) - 1, -1, -1):\n",
    "        if digits[i] < 9:\n",
    "            digits[i] += 1\n",
    "            return digits\n",
    "        digits[i] = 0\n",
    "    # If all digits were 9, we need to add a new digit at the front\n",
    "    return [1] + digits\n",
    "\n",
    "digits = [9,9,9]\n",
    "plusone(digits)"
   ]
  },
  {
   "cell_type": "code",
   "execution_count": null,
   "id": "83a20c7e",
   "metadata": {},
   "outputs": [],
   "source": [
    "def plusone(digits):\n",
    "    # Start from the last digit and add one\n",
    "    for i in range(len(digits) - 1, -1, -1):\n",
    "        if digits[i] < 9:\n",
    "            digits[i] += 1\n",
    "            return digits\n",
    "        digits[i] = 0\n",
    "    # If all digits were 9, we need to add a new digit at the front\n",
    "    return [1] + digits\n"
   ]
  },
  {
   "cell_type": "code",
   "execution_count": 10,
   "id": "1bdb187c",
   "metadata": {},
   "outputs": [
    {
     "name": "stdout",
     "output_type": "stream",
     "text": [
      "[1, 2, 3, 1, 2, 3]\n"
     ]
    }
   ],
   "source": [
    "def concatenationarray(nums):\n",
    "    # Concatenate the array with itself\n",
    "    return nums + nums\n",
    "x = [1, 2, 3]\n",
    "print(concatenationarray(x))\n"
   ]
  },
  {
   "cell_type": "code",
   "execution_count": 12,
   "id": "e6b709d0",
   "metadata": {},
   "outputs": [
    {
     "name": "stdout",
     "output_type": "stream",
     "text": [
      "[[1, 2, 3], [1, 3, 2], [2, 1, 3], [2, 3, 1], [3, 1, 2], [3, 2, 1]]\n"
     ]
    }
   ],
   "source": [
    "def permutationarray(nums):\n",
    "    # Generate all permutations of the array\n",
    "    if not nums:\n",
    "        return [[]]\n",
    "    result = []\n",
    "    for i in range(len(nums)):\n",
    "        # Get the current number and the remaining numbers\n",
    "        current = nums[i]\n",
    "        remaining = nums[:i] + nums[i+1:]\n",
    "        # Generate all permutations of the remaining numbers\n",
    "        for p in permutationarray(remaining):\n",
    "            result.append([current] + p)\n",
    "    return result\n",
    "\n",
    "nums = [1, 2, 3]\n",
    "print(permutationarray(nums))"
   ]
  },
  {
   "cell_type": "code",
   "execution_count": 18,
   "id": "da90a667",
   "metadata": {},
   "outputs": [
    {
     "name": "stdout",
     "output_type": "stream",
     "text": [
      "2\n"
     ]
    }
   ],
   "source": [
    "class solution(object):\n",
    "    def findvalueafteroperation(self, digits):\n",
    "        # value = 0\n",
    "        # # Find the value after performing the plus one operation\n",
    "        # mapping = {\"--x\":-1,\"++x\":1,\"x++\":1,\"x--\":-1}\n",
    "        # for op in mapping:\n",
    "        #     if op in digits:\n",
    "        #         value += mapping[op]\n",
    "        # return value\n",
    "        x = 0\n",
    "        for op in s:\n",
    "            if op == \"++x\" or op == \"x++\":\n",
    "                x += 1\n",
    "            elif op == \"--x\" or op == \"x--\":\n",
    "                x -= 1\n",
    "        return x\n",
    "s = [\"x++\",\"x++\"]\n",
    "sol = solution()\n",
    "print(sol.findvalueafteroperation(s))"
   ]
  },
  {
   "cell_type": "code",
   "execution_count": 22,
   "id": "e12d0039",
   "metadata": {},
   "outputs": [
    {
     "data": {
      "text/plain": [
       "[2, 3, 5, 4, 1, 7]"
      ]
     },
     "execution_count": 22,
     "metadata": {},
     "output_type": "execute_result"
    }
   ],
   "source": [
    "def shuffle(nums, n):\n",
    "    # shuffled = []\n",
    "    # for i in range(n):\n",
    "    #     shuffled.append(nums[i])\n",
    "    #     shuffled.append(nums[i + n])\n",
    "    # return shuffled\n",
    "    shuffled = [0] * (2 * n)\n",
    "    for i in range(n):\n",
    "        shuffled[2 * i] = nums[i]\n",
    "        shuffled[2 * i + 1] = nums[i + n]\n",
    "    return shuffled\n",
    "\n",
    "shuffle([2,5,1,3,4,7], 3)"
   ]
  },
  {
   "cell_type": "code",
   "execution_count": 30,
   "id": "9258b450",
   "metadata": {},
   "outputs": [
    {
     "name": "stdout",
     "output_type": "stream",
     "text": [
      "index: 0, string: hello, 'r' not found in string at index 0\n",
      "index: 1, string: world, Found 'r' in string at index 1\n",
      "index: 2, string: leetcode, 'r' not found in string at index 2\n",
      "[1]\n"
     ]
    }
   ],
   "source": [
    "def findwordcontaining(s, word):\n",
    "    indices = []\n",
    "    for i, string in enumerate(s):\n",
    "        print(f\"index: {i}, string: {string}\", end=\", \")\n",
    "        if word in string:\n",
    "            print(f\"Found '{word}' in string at index {i}\")\n",
    "            indices.append(i)\n",
    "        else:\n",
    "            print(f\"'{word}' not found in string at index {i}\")\n",
    "    return indices\n",
    "\n",
    "s = [\"hello\",\"world\",\"leetcode\"]\n",
    "word = \"r\"\n",
    "print(findwordcontaining(s, word))"
   ]
  },
  {
   "cell_type": "code",
   "execution_count": null,
   "id": "fe12c4ab",
   "metadata": {},
   "outputs": [],
   "source": []
  }
 ],
 "metadata": {
  "kernelspec": {
   "display_name": "Python 3",
   "language": "python",
   "name": "python3"
  },
  "language_info": {
   "codemirror_mode": {
    "name": "ipython",
    "version": 3
   },
   "file_extension": ".py",
   "mimetype": "text/x-python",
   "name": "python",
   "nbconvert_exporter": "python",
   "pygments_lexer": "ipython3",
   "version": "3.13.1"
  }
 },
 "nbformat": 4,
 "nbformat_minor": 5
}
